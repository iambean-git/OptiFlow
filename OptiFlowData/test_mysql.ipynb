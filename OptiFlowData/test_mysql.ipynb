{
 "cells": [
  {
   "cell_type": "code",
   "execution_count": 1,
   "metadata": {},
   "outputs": [],
   "source": [
    "# pip install mysql-connector-python"
   ]
  },
  {
   "cell_type": "code",
   "execution_count": 1,
   "metadata": {},
   "outputs": [],
   "source": [
    "from preamble import *"
   ]
  },
  {
   "cell_type": "code",
   "execution_count": 2,
   "metadata": {},
   "outputs": [],
   "source": [
    "import mysql.connector"
   ]
  },
  {
   "cell_type": "code",
   "execution_count": null,
   "metadata": {},
   "outputs": [],
   "source": [
    "db_config = {\n",
    "  'host': '10.125.121.226',  # MySQL 서버 IP 주소 또는 호스트 이름\n",
    "  'database': 'pms_db_dev_gs',    # 데이터베이스 이름\n",
    "  'user': 'opti',            # 사용자 계정 이름\n",
    "  'password': 'tiger'      # 비밀번호\n",
    "}\n",
    "try :\n",
    "  # MySQL 서버 연결\n",
    "  conn = mysql.connector.connect(**db_config)\n",
    "  cursor = conn.cursor()\n",
    "\n",
    "  # 2. SQL 쿼리 실행 및 데이터 추출\n",
    "  query = \"SELECT * FROM tb_motor\"\n",
    "  df = pd.read_sql_query(query, conn)\n",
    "\n",
    "except mysql.connector.Error as e:\n",
    "  print(\"MySQL 연결 또는 쿼리 실행 오류:\", e)\n",
    "\n",
    "finally:\n",
    "  if conn and conn.is_connected():\n",
    "    cursor.close()\n",
    "    conn.close()\n",
    "    print(\"MySQL 연결이 종료되었습니다.\")"
   ]
  },
  {
   "cell_type": "code",
   "execution_count": 4,
   "metadata": {},
   "outputs": [],
   "source": [
    "pms_data = df.dropna()"
   ]
  },
  {
   "cell_type": "code",
   "execution_count": 5,
   "metadata": {},
   "outputs": [
    {
     "data": {
      "text/plain": [
       "(87719, 7)"
      ]
     },
     "execution_count": 5,
     "metadata": {},
     "output_type": "execute_result"
    }
   ],
   "source": [
    "pms_data.shape"
   ]
  },
  {
   "cell_type": "code",
   "execution_count": 6,
   "metadata": {},
   "outputs": [
    {
     "data": {
      "text/html": [
       "<div>\n",
       "<style scoped>\n",
       "    .dataframe tbody tr th:only-of-type {\n",
       "        vertical-align: middle;\n",
       "    }\n",
       "\n",
       "    .dataframe tbody tr th {\n",
       "        vertical-align: top;\n",
       "    }\n",
       "\n",
       "    .dataframe thead th {\n",
       "        text-align: right;\n",
       "    }\n",
       "</style>\n",
       "<table border=\"1\" class=\"dataframe\">\n",
       "  <thead>\n",
       "    <tr style=\"text-align: right;\">\n",
       "      <th></th>\n",
       "      <th>motor_id</th>\n",
       "      <th>equipment_id</th>\n",
       "      <th>center_id</th>\n",
       "      <th>channel_id</th>\n",
       "      <th>acq_date</th>\n",
       "      <th>data_array</th>\n",
       "      <th>proc_stat</th>\n",
       "    </tr>\n",
       "  </thead>\n",
       "  <tbody>\n",
       "    <tr>\n",
       "      <th>384</th>\n",
       "      <td>motor_n_1</td>\n",
       "      <td>cDAQ9189-213AD12Mod1/CHN0</td>\n",
       "      <td>gosan_n</td>\n",
       "      <td>CHN0</td>\n",
       "      <td>2024-05-04 14:47:13</td>\n",
       "      <td>H4sIAAAAAAAAAIR9CdIsSW8bj+IDeByVVVnbAXQK3f8att...</td>\n",
       "      <td>2</td>\n",
       "    </tr>\n",
       "    <tr>\n",
       "      <th>385</th>\n",
       "      <td>motor_n_1</td>\n",
       "      <td>cDAQ9189-213AD12Mod1/CHN0</td>\n",
       "      <td>gosan_n</td>\n",
       "      <td>CHN0</td>\n",
       "      <td>2024-05-04 15:17:13</td>\n",
       "      <td>H4sIAAAAAAAAAIS9idHsSI8kCFFGgKk1khG8BBgpRn81dv...</td>\n",
       "      <td>2</td>\n",
       "    </tr>\n",
       "    <tr>\n",
       "      <th>386</th>\n",
       "      <td>motor_n_1</td>\n",
       "      <td>cDAQ9189-213AD12Mod1/CHN0</td>\n",
       "      <td>gosan_n</td>\n",
       "      <td>CHN0</td>\n",
       "      <td>2024-05-04 15:47:14</td>\n",
       "      <td>H4sIAAAAAAAAAIy9CbIsOY4kiKPMASZajEZbD1Cn6Ptfo2...</td>\n",
       "      <td>2</td>\n",
       "    </tr>\n",
       "    <tr>\n",
       "      <th>387</th>\n",
       "      <td>motor_n_1</td>\n",
       "      <td>cDAQ9189-213AD12Mod1/CHN0</td>\n",
       "      <td>gosan_n</td>\n",
       "      <td>CHN0</td>\n",
       "      <td>2024-05-04 16:17:14</td>\n",
       "      <td>H4sIAAAAAAAAAIR9C7LkQI4bj+IDuB1KSanPAXwK3/8atr...</td>\n",
       "      <td>2</td>\n",
       "    </tr>\n",
       "    <tr>\n",
       "      <th>388</th>\n",
       "      <td>motor_n_1</td>\n",
       "      <td>cDAQ9189-213AD12Mod1/CHN0</td>\n",
       "      <td>gosan_n</td>\n",
       "      <td>CHN0</td>\n",
       "      <td>2024-05-04 16:47:15</td>\n",
       "      <td>H4sIAAAAAAAAAIx9ixHkSK4cTJEB2hcs/oo0QFbIfzckzX...</td>\n",
       "      <td>2</td>\n",
       "    </tr>\n",
       "  </tbody>\n",
       "</table>\n",
       "</div>"
      ],
      "text/plain": [
       "      motor_id               equipment_id center_id channel_id  \\\n",
       "384  motor_n_1  cDAQ9189-213AD12Mod1/CHN0   gosan_n       CHN0   \n",
       "385  motor_n_1  cDAQ9189-213AD12Mod1/CHN0   gosan_n       CHN0   \n",
       "386  motor_n_1  cDAQ9189-213AD12Mod1/CHN0   gosan_n       CHN0   \n",
       "387  motor_n_1  cDAQ9189-213AD12Mod1/CHN0   gosan_n       CHN0   \n",
       "388  motor_n_1  cDAQ9189-213AD12Mod1/CHN0   gosan_n       CHN0   \n",
       "\n",
       "               acq_date                                         data_array  \\\n",
       "384 2024-05-04 14:47:13  H4sIAAAAAAAAAIR9CdIsSW8bj+IDeByVVVnbAXQK3f8att...   \n",
       "385 2024-05-04 15:17:13  H4sIAAAAAAAAAIS9idHsSI8kCFFGgKk1khG8BBgpRn81dv...   \n",
       "386 2024-05-04 15:47:14  H4sIAAAAAAAAAIy9CbIsOY4kiKPMASZajEZbD1Cn6Ptfo2...   \n",
       "387 2024-05-04 16:17:14  H4sIAAAAAAAAAIR9C7LkQI4bj+IDuB1KSanPAXwK3/8atr...   \n",
       "388 2024-05-04 16:47:15  H4sIAAAAAAAAAIx9ixHkSK4cTJEB2hcs/oo0QFbIfzckzX...   \n",
       "\n",
       "     proc_stat  \n",
       "384          2  \n",
       "385          2  \n",
       "386          2  \n",
       "387          2  \n",
       "388          2  "
      ]
     },
     "execution_count": 6,
     "metadata": {},
     "output_type": "execute_result"
    }
   ],
   "source": [
    "pms_data.head()"
   ]
  },
  {
   "cell_type": "code",
   "execution_count": 7,
   "metadata": {},
   "outputs": [],
   "source": [
    "import base64\n",
    "import gzip\n",
    "import json\n",
    "import numpy as np\n",
    "\n",
    "# 데이터 압축 및 압축 해제 함수\n",
    "def decompress(data):\n",
    "  try:\n",
    "    byte_data = gzip.decompress(base64.standard_b64decode(data))\n",
    "    temp = byte_data.decode(\"utf-16\")\n",
    "    temp_jarr = json.loads(temp)\n",
    "    return np.array(list(map(lambda x: float(x), temp_jarr)))\n",
    "  except Exception as e:\n",
    "    logger.error(f\"Data decompression error: {e}\")\n",
    "    raise"
   ]
  },
  {
   "cell_type": "code",
   "execution_count": 8,
   "metadata": {},
   "outputs": [
    {
     "name": "stdout",
     "output_type": "stream",
     "text": [
      "      motor_id               equipment_id center_id channel_id  \\\n",
      "384  motor_n_1  cDAQ9189-213AD12Mod1/CHN0   gosan_n       CHN0   \n",
      "385  motor_n_1  cDAQ9189-213AD12Mod1/CHN0   gosan_n       CHN0   \n",
      "386  motor_n_1  cDAQ9189-213AD12Mod1/CHN0   gosan_n       CHN0   \n",
      "387  motor_n_1  cDAQ9189-213AD12Mod1/CHN0   gosan_n       CHN0   \n",
      "388  motor_n_1  cDAQ9189-213AD12Mod1/CHN0   gosan_n       CHN0   \n",
      "\n",
      "               acq_date                                         data_array  \\\n",
      "384 2024-05-04 14:47:13  [-0.146385, -0.269267, 0.199353, 0.195184, 0.0...   \n",
      "385 2024-05-04 15:17:13  [0.141742, 0.117594, 0.043271, -0.021963, -0.3...   \n",
      "386 2024-05-04 15:47:14  [0.711275, 0.371583, -0.057603, 0.538894, 1.00...   \n",
      "387 2024-05-04 16:17:14  [0.441287, 0.516323, 0.785072, 0.232665, 0.998...   \n",
      "388 2024-05-04 16:47:15  [-0.031127, -0.164337, -0.233552, 0.049055, -0...   \n",
      "\n",
      "     proc_stat  \n",
      "384          2  \n",
      "385          2  \n",
      "386          2  \n",
      "387          2  \n",
      "388          2  \n"
     ]
    },
    {
     "name": "stderr",
     "output_type": "stream",
     "text": [
      "C:\\Users\\user\\AppData\\Local\\Temp\\ipykernel_18808\\2872536943.py:1: SettingWithCopyWarning: \n",
      "A value is trying to be set on a copy of a slice from a DataFrame.\n",
      "Try using .loc[row_indexer,col_indexer] = value instead\n",
      "\n",
      "See the caveats in the documentation: https://pandas.pydata.org/pandas-docs/stable/user_guide/indexing.html#returning-a-view-versus-a-copy\n",
      "  pms_data['data_array'] = pms_data['data_array'].apply(decompress)\n"
     ]
    }
   ],
   "source": [
    "pms_data['data_array'] = pms_data['data_array'].apply(decompress)\n",
    "\n",
    "print(pms_data.head()) "
   ]
  },
  {
   "cell_type": "code",
   "execution_count": 9,
   "metadata": {},
   "outputs": [],
   "source": [
    "pms_data.to_csv(path_or_buf='data/pms_data_decompressed.csv', index=False)"
   ]
  },
  {
   "cell_type": "code",
   "execution_count": 12,
   "metadata": {},
   "outputs": [
    {
     "data": {
      "text/plain": [
       "(70, 7)"
      ]
     },
     "execution_count": 12,
     "metadata": {},
     "output_type": "execute_result"
    }
   ],
   "source": [
    "zero_data = pms_data[pms_data['proc_stat'] == 0]\n",
    "zero_data.shape"
   ]
  }
 ],
 "metadata": {
  "kernelspec": {
   "display_name": "torch_book",
   "language": "python",
   "name": "python3"
  },
  "language_info": {
   "codemirror_mode": {
    "name": "ipython",
    "version": 3
   },
   "file_extension": ".py",
   "mimetype": "text/x-python",
   "name": "python",
   "nbconvert_exporter": "python",
   "pygments_lexer": "ipython3",
   "version": "3.12.7"
  }
 },
 "nbformat": 4,
 "nbformat_minor": 2
}
