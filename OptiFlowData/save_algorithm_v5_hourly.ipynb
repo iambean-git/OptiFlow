{
 "cells": [
  {
   "cell_type": "code",
   "execution_count": 1,
   "metadata": {},
   "outputs": [],
   "source": [
    "from preamble import *"
   ]
  },
  {
   "cell_type": "code",
   "execution_count": 3,
   "metadata": {},
   "outputs": [
    {
     "name": "stderr",
     "output_type": "stream",
     "text": [
      "c:\\DevTool\\anaconda3\\envs\\torch_book\\Lib\\site-packages\\sklearn\\base.py:376: InconsistentVersionWarning: Trying to unpickle estimator LinearRegression from version 1.6.0 when using version 1.5.2. This might lead to breaking code or invalid results. Use at your own risk. For more info please refer to:\n",
      "https://scikit-learn.org/stable/model_persistence.html#security-maintainability-limitations\n",
      "  warnings.warn(\n",
      "c:\\DevTool\\anaconda3\\envs\\torch_book\\Lib\\site-packages\\sklearn\\base.py:376: InconsistentVersionWarning: Trying to unpickle estimator PolynomialFeatures from version 1.6.0 when using version 1.5.2. This might lead to breaking code or invalid results. Use at your own risk. For more info please refer to:\n",
      "https://scikit-learn.org/stable/model_persistence.html#security-maintainability-limitations\n",
      "  warnings.warn(\n"
     ]
    }
   ],
   "source": [
    "import pickle\n",
    "\n",
    "with open('best_polynomial_regression_model.pkl', 'rb') as f:\n",
    "  model, poly = pickle.load(f)\n",
    "\n",
    "file_path = './data/d_pressure_flux_outflow.csv'\n",
    "\n",
    "data = pd.read_csv(file_path, index_col='datetime')\n",
    "data.index = pd.to_datetime(data.index)\n",
    "hourly_data = data.resample('h').sum()\n",
    "hourly_data.reset_index(inplace=True)\n",
    "hourly_data_one_day = hourly_data[:24]"
   ]
  },
  {
   "cell_type": "code",
   "execution_count": 4,
   "metadata": {},
   "outputs": [
    {
     "data": {
      "text/html": [
       "<div>\n",
       "<style scoped>\n",
       "    .dataframe tbody tr th:only-of-type {\n",
       "        vertical-align: middle;\n",
       "    }\n",
       "\n",
       "    .dataframe tbody tr th {\n",
       "        vertical-align: top;\n",
       "    }\n",
       "\n",
       "    .dataframe thead th {\n",
       "        text-align: right;\n",
       "    }\n",
       "</style>\n",
       "<table border=\"1\" class=\"dataframe\">\n",
       "  <thead>\n",
       "    <tr style=\"text-align: right;\">\n",
       "      <th></th>\n",
       "      <th>datetime</th>\n",
       "      <th>pressure</th>\n",
       "      <th>flux</th>\n",
       "      <th>outflow</th>\n",
       "    </tr>\n",
       "  </thead>\n",
       "  <tbody>\n",
       "    <tr>\n",
       "      <th>0</th>\n",
       "      <td>2023-01-01 00:00:00</td>\n",
       "      <td>570.55</td>\n",
       "      <td>4672.98</td>\n",
       "      <td>6063.02</td>\n",
       "    </tr>\n",
       "    <tr>\n",
       "      <th>1</th>\n",
       "      <td>2023-01-01 01:00:00</td>\n",
       "      <td>574.21</td>\n",
       "      <td>6425.49</td>\n",
       "      <td>7195.35</td>\n",
       "    </tr>\n",
       "    <tr>\n",
       "      <th>2</th>\n",
       "      <td>2023-01-01 02:00:00</td>\n",
       "      <td>573.15</td>\n",
       "      <td>8620.11</td>\n",
       "      <td>7472.46</td>\n",
       "    </tr>\n",
       "    <tr>\n",
       "      <th>3</th>\n",
       "      <td>2023-01-01 03:00:00</td>\n",
       "      <td>574.50</td>\n",
       "      <td>8697.04</td>\n",
       "      <td>4809.88</td>\n",
       "    </tr>\n",
       "    <tr>\n",
       "      <th>4</th>\n",
       "      <td>2023-01-01 04:00:00</td>\n",
       "      <td>558.58</td>\n",
       "      <td>9543.70</td>\n",
       "      <td>6292.50</td>\n",
       "    </tr>\n",
       "  </tbody>\n",
       "</table>\n",
       "</div>"
      ],
      "text/plain": [
       "             datetime  pressure     flux  outflow\n",
       "0 2023-01-01 00:00:00    570.55  4672.98  6063.02\n",
       "1 2023-01-01 01:00:00    574.21  6425.49  7195.35\n",
       "2 2023-01-01 02:00:00    573.15  8620.11  7472.46\n",
       "3 2023-01-01 03:00:00    574.50  8697.04  4809.88\n",
       "4 2023-01-01 04:00:00    558.58  9543.70  6292.50"
      ]
     },
     "execution_count": 4,
     "metadata": {},
     "output_type": "execute_result"
    }
   ],
   "source": [
    "hourly_data.head()"
   ]
  },
  {
   "cell_type": "code",
   "execution_count": null,
   "metadata": {},
   "outputs": [
    {
     "name": "stdout",
     "output_type": "stream",
     "text": [
      "-183,168,249\n"
     ]
    }
   ],
   "source": [
    "from sklearn.preprocessing import PolynomialFeatures\n",
    "from datetime import datetime, time\n",
    "\n",
    "electricity_rates = {\n",
    "  'summer': {\n",
    "    'off_peak': 64.37,  # 경부하 요금 (원/kWh)\n",
    "    'mid_peak': 92.46,  # 중간부하 요금 (원/kWh)\n",
    "    'on_peak': 123.88   # 최대부하 요금 (원/kWh)\n",
    "  },\n",
    "  'spring_fall': {\n",
    "    'off_peak': 64.37,  # 경부하 요금 (원/kWh)\n",
    "    'mid_peak': 69.50,  # 중간부하 요금 (원/kWh)\n",
    "    'on_peak': 86.88    # 최대부하 요금 (원/kWh)\n",
    "  },\n",
    "  'winter': {\n",
    "    'off_peak': 71.88,  # 경부하 요금 (원/kWh)\n",
    "    'mid_peak': 90.80,  # 중간부하 요금 (원/kWh)\n",
    "    'on_peak': 116.47   # 최대부하 요금 (원/kWh)\n",
    "  }\n",
    "}\n",
    "\n",
    "# 시간대 구분\n",
    "time_periods = {\n",
    "  'summer': {\n",
    "    'off_peak': [(time(23, 0), time(9, 0))],\n",
    "    'mid_peak': [(time(9, 0), time(11, 0)), (time(12, 0), time(13, 0)), (time(17, 0), time(23, 0))],\n",
    "    'on_peak': [(time(11, 0), time(12, 0)), (time(13, 0), time(17, 0))]\n",
    "  },\n",
    "  'spring_fall': {\n",
    "    'off_peak': [(time(23, 0), time(9, 0))],\n",
    "    'mid_peak': [(time(9, 0), time(11, 0)), (time(12, 0), time(13, 0)), (time(17, 0), time(23, 0))],\n",
    "    'on_peak': [(time(11, 0), time(12, 0)), (time(13, 0), time(17, 0))]\n",
    "  },\n",
    "  'winter': {\n",
    "    'off_peak': [(time(23, 0), time(9, 0))],\n",
    "    'mid_peak': [(time(9, 0), time(10, 0)), (time(12, 0), time(17, 0)), (time(20, 0), time(22, 0))],\n",
    "    'on_peak': [(time(10, 0), time(12, 0)), (time(17, 0), time(20, 0)), (time(22, 0), time(23, 0))]\n",
    "  }\n",
    "}\n",
    "\n",
    "def get_season_and_period(dt):\n",
    "  month = dt.month\n",
    "  current_time = dt.time()\n",
    "  \n",
    "  if month in [7, 8]:\n",
    "    season = 'summer'\n",
    "  elif month in [11, 12, 1, 2]:\n",
    "    season = 'winter'\n",
    "  else:\n",
    "    season = 'spring_fall'\n",
    "  \n",
    "  for period, times in time_periods[season].items():\n",
    "    for start, end in times:\n",
    "      if start <= current_time < end:\n",
    "        return season, period\n",
    "  return season, 'off_peak'\n",
    "  \n",
    "def calculate_daily_cost_by_linear(data):\n",
    "  total_cost = 0\n",
    "  poly = PolynomialFeatures(3)\n",
    "  for _, row in data.iterrows():\n",
    "    season, period = get_season_and_period(row['datetime'])\n",
    "    flux_poly = poly.fit_transform(np.array([[row['flux']]]))\n",
    "    power_kW = model.predict(flux_poly)[0]\n",
    "    cost_per_kWh = electricity_rates[season][period]\n",
    "    energy_kWh = power_kW / 60\n",
    "    total_cost += energy_kWh * cost_per_kWh\n",
    "    # print(power_kW)\n",
    "  return total_cost\n",
    "\n",
    "## 밥 먹고 수정해보자\n",
    "def calculate_daily_cost_by_linear_hourly(data):\n",
    "  hourly_cost = np.zeros(24)\n",
    "  poly = PolynomialFeatures(3)\n",
    "  for i, row in data.iterrows():\n",
    "    season, period = get_season_and_period(row['datetime'])\n",
    "    flux_poly = poly.fit_transform(np.array([[row['flux']]]))\n",
    "    power_kW = model.predict(flux_poly)[0]\n",
    "    cost_per_kWh = electricity_rates[season][period]\n",
    "    energy_kWh = power_kW / 60\n",
    "\n",
    "    idx = i // 60\n",
    "    hourly_cost[idx] += energy_kWh * cost_per_kWh\n",
    "  return hourly_cost\n",
    "\n",
    "cost = calculate_daily_cost_by_linear_hourly(hourly_data_one_day)\n",
    "cost_format = format(int(cost[0]), ',')\n",
    "print(cost_format)"
   ]
  },
  {
   "cell_type": "code",
   "execution_count": 6,
   "metadata": {},
   "outputs": [],
   "source": [
    "from datetime import timedelta\n",
    "\n",
    "def optimize_pump_flow(data, v_initial, capacity, max_flow = 250):\n",
    "  outflow = data['outflow'].values # 시간당 유출량을 data로 받음\n",
    "  minutes = len(data['datetime']) * 60\n",
    "  pump_flow = np.zeros(minutes)  # 각 분당 펌프 유량 설정\n",
    "  over_flow = np.zeros(minutes)  # 넘으면 저장\n",
    "  lower_flow = np.zeros(minutes)  # 모자라면 저장\n",
    "  storage = v_initial  # 초기 배수지 저장량\n",
    "  start_time = data['datetime'][0]\n",
    "  v_min, v_max = capacity * 0.31, capacity * 0.94 # 1% 보수적 한계\n",
    "  \n",
    "  hourly_flow = 0\n",
    "\n",
    "  for minute in range(minutes):\n",
    "    if minute % 60 == 0:  # 정각마다 유량 조정\n",
    "      \n",
    "      t = minute // 60 \n",
    "      current_time = start_time + timedelta(hours=t)\n",
    "      season, period = get_season_and_period(current_time)\n",
    "      expected_outflow = outflow[t] / 60\n",
    "\n",
    "      # 저장량을 유지하기 위한 기본 필요 유입량\n",
    "      hourly_flow = expected_outflow\n",
    "      \n",
    "      # 심야 시간 요금 절약을 위해 조정 (추가적인 충전 고려)\n",
    "      if period == 'off_peak' and storage + hourly_flow - expected_outflow <= v_max:\n",
    "        hourly_flow += max((v_max - (storage - expected_outflow)) * 0.10, 0) # 추가 충전\n",
    "      elif period == 'mid_peak' and storage + hourly_flow - expected_outflow <= v_max:\n",
    "        hourly_flow += max((v_max - (storage - expected_outflow)) * 0.05, 0) # 추가 충전\n",
    "      if period == 'on_peak' and storage + hourly_flow - expected_outflow >= v_min:\n",
    "        hourly_flow -= max(((storage - expected_outflow) - v_min) * 0.01, 0) # 절감 충전\n",
    "\n",
    "      hourly_flow = max(hourly_flow, 0)\n",
    "      hourly_flow = min(hourly_flow, max_flow)\n",
    "\n",
    "    pump_flow[minute] = max(hourly_flow, 0)\n",
    "    \n",
    "    storage += pump_flow[minute] - (outflow[minute // 60] / 60)\n",
    "\n",
    "    if (storage > v_max):\n",
    "      over_flow[minute] = storage - v_max\n",
    "    elif (storage < v_min):\n",
    "      lower_flow[minute] = v_min - storage\n",
    "\n",
    "  over_non_zero_indices =  np.nonzero(over_flow)\n",
    "  lower_non_zero_indices = np.nonzero(lower_flow)\n",
    "\n",
    "  hourly_over_amount = np.zeros(24)\n",
    "  hourly_lower_amount = np.zeros(24)\n",
    "  \n",
    "  if len(over_non_zero_indices[0]) != 0:\n",
    "    for idx in over_non_zero_indices[0]:\n",
    "      h = idx // 60\n",
    "      if hourly_over_amount[h] > (-1) * over_flow[idx]:\n",
    "        hourly_over_amount[h] = (-1) * over_flow[idx]\n",
    "  if len(lower_non_zero_indices[0]) != 0:\n",
    "    for idx in lower_non_zero_indices[0]:\n",
    "      h = idx // 60\n",
    "      if hourly_lower_amount[h] < lower_flow[idx]:\n",
    "        hourly_lower_amount[h] = lower_flow[idx]\n",
    "\n",
    "  adjustment = hourly_over_amount + hourly_lower_amount\n",
    "\n",
    "  for i, value in enumerate(adjustment):\n",
    "    if value == 0: continue\n",
    "    else:\n",
    "      pump_flow[i * 60 : (i + 1) * 60] += (value / 60)\n",
    "\n",
    "  return pump_flow\n",
    "\n",
    "v_initial = 1419\n",
    "capacity = 2000\n",
    "optimized_flow = optimize_pump_flow(hourly_data_one_day, v_initial, capacity)"
   ]
  },
  {
   "cell_type": "code",
   "execution_count": 11,
   "metadata": {},
   "outputs": [
    {
     "name": "stdout",
     "output_type": "stream",
     "text": [
      "[108.734 108.734 108.734 ... 102.557 102.557 102.557] 1440\n"
     ]
    }
   ],
   "source": [
    "print(optimized_flow, len(optimized_flow))"
   ]
  },
  {
   "cell_type": "code",
   "execution_count": 7,
   "metadata": {},
   "outputs": [
    {
     "ename": "ValueError",
     "evalue": "Length of values (1440) does not match length of index (24)",
     "output_type": "error",
     "traceback": [
      "\u001b[1;31m---------------------------------------------------------------------------\u001b[0m",
      "\u001b[1;31mValueError\u001b[0m                                Traceback (most recent call last)",
      "Cell \u001b[1;32mIn[7], line 2\u001b[0m\n\u001b[0;32m      1\u001b[0m data_opti \u001b[38;5;241m=\u001b[39m hourly_data_one_day\u001b[38;5;241m.\u001b[39mcopy()\n\u001b[1;32m----> 2\u001b[0m \u001b[43mdata_opti\u001b[49m\u001b[43m[\u001b[49m\u001b[38;5;124;43m'\u001b[39;49m\u001b[38;5;124;43mflux\u001b[39;49m\u001b[38;5;124;43m'\u001b[39;49m\u001b[43m]\u001b[49m \u001b[38;5;241m=\u001b[39m optimized_flow\n\u001b[0;32m      3\u001b[0m hourly_opti_flux \u001b[38;5;241m=\u001b[39m data_opti\u001b[38;5;241m.\u001b[39mresample(\u001b[38;5;124m'\u001b[39m\u001b[38;5;124mh\u001b[39m\u001b[38;5;124m'\u001b[39m)\u001b[38;5;241m.\u001b[39msum()[\u001b[38;5;124m'\u001b[39m\u001b[38;5;124mflux\u001b[39m\u001b[38;5;124m'\u001b[39m]\n\u001b[0;32m      4\u001b[0m cost_opti \u001b[38;5;241m=\u001b[39m calculate_daily_cost_by_linear(data_opti)\n",
      "File \u001b[1;32mc:\\DevTool\\anaconda3\\envs\\torch_book\\Lib\\site-packages\\pandas\\core\\frame.py:4311\u001b[0m, in \u001b[0;36mDataFrame.__setitem__\u001b[1;34m(self, key, value)\u001b[0m\n\u001b[0;32m   4308\u001b[0m     \u001b[38;5;28mself\u001b[39m\u001b[38;5;241m.\u001b[39m_setitem_array([key], value)\n\u001b[0;32m   4309\u001b[0m \u001b[38;5;28;01melse\u001b[39;00m:\n\u001b[0;32m   4310\u001b[0m     \u001b[38;5;66;03m# set column\u001b[39;00m\n\u001b[1;32m-> 4311\u001b[0m     \u001b[38;5;28;43mself\u001b[39;49m\u001b[38;5;241;43m.\u001b[39;49m\u001b[43m_set_item\u001b[49m\u001b[43m(\u001b[49m\u001b[43mkey\u001b[49m\u001b[43m,\u001b[49m\u001b[43m \u001b[49m\u001b[43mvalue\u001b[49m\u001b[43m)\u001b[49m\n",
      "File \u001b[1;32mc:\\DevTool\\anaconda3\\envs\\torch_book\\Lib\\site-packages\\pandas\\core\\frame.py:4524\u001b[0m, in \u001b[0;36mDataFrame._set_item\u001b[1;34m(self, key, value)\u001b[0m\n\u001b[0;32m   4514\u001b[0m \u001b[38;5;28;01mdef\u001b[39;00m \u001b[38;5;21m_set_item\u001b[39m(\u001b[38;5;28mself\u001b[39m, key, value) \u001b[38;5;241m-\u001b[39m\u001b[38;5;241m>\u001b[39m \u001b[38;5;28;01mNone\u001b[39;00m:\n\u001b[0;32m   4515\u001b[0m \u001b[38;5;250m    \u001b[39m\u001b[38;5;124;03m\"\"\"\u001b[39;00m\n\u001b[0;32m   4516\u001b[0m \u001b[38;5;124;03m    Add series to DataFrame in specified column.\u001b[39;00m\n\u001b[0;32m   4517\u001b[0m \n\u001b[1;32m   (...)\u001b[0m\n\u001b[0;32m   4522\u001b[0m \u001b[38;5;124;03m    ensure homogeneity.\u001b[39;00m\n\u001b[0;32m   4523\u001b[0m \u001b[38;5;124;03m    \"\"\"\u001b[39;00m\n\u001b[1;32m-> 4524\u001b[0m     value, refs \u001b[38;5;241m=\u001b[39m \u001b[38;5;28;43mself\u001b[39;49m\u001b[38;5;241;43m.\u001b[39;49m\u001b[43m_sanitize_column\u001b[49m\u001b[43m(\u001b[49m\u001b[43mvalue\u001b[49m\u001b[43m)\u001b[49m\n\u001b[0;32m   4526\u001b[0m     \u001b[38;5;28;01mif\u001b[39;00m (\n\u001b[0;32m   4527\u001b[0m         key \u001b[38;5;129;01min\u001b[39;00m \u001b[38;5;28mself\u001b[39m\u001b[38;5;241m.\u001b[39mcolumns\n\u001b[0;32m   4528\u001b[0m         \u001b[38;5;129;01mand\u001b[39;00m value\u001b[38;5;241m.\u001b[39mndim \u001b[38;5;241m==\u001b[39m \u001b[38;5;241m1\u001b[39m\n\u001b[0;32m   4529\u001b[0m         \u001b[38;5;129;01mand\u001b[39;00m \u001b[38;5;129;01mnot\u001b[39;00m \u001b[38;5;28misinstance\u001b[39m(value\u001b[38;5;241m.\u001b[39mdtype, ExtensionDtype)\n\u001b[0;32m   4530\u001b[0m     ):\n\u001b[0;32m   4531\u001b[0m         \u001b[38;5;66;03m# broadcast across multiple columns if necessary\u001b[39;00m\n\u001b[0;32m   4532\u001b[0m         \u001b[38;5;28;01mif\u001b[39;00m \u001b[38;5;129;01mnot\u001b[39;00m \u001b[38;5;28mself\u001b[39m\u001b[38;5;241m.\u001b[39mcolumns\u001b[38;5;241m.\u001b[39mis_unique \u001b[38;5;129;01mor\u001b[39;00m \u001b[38;5;28misinstance\u001b[39m(\u001b[38;5;28mself\u001b[39m\u001b[38;5;241m.\u001b[39mcolumns, MultiIndex):\n",
      "File \u001b[1;32mc:\\DevTool\\anaconda3\\envs\\torch_book\\Lib\\site-packages\\pandas\\core\\frame.py:5266\u001b[0m, in \u001b[0;36mDataFrame._sanitize_column\u001b[1;34m(self, value)\u001b[0m\n\u001b[0;32m   5263\u001b[0m     \u001b[38;5;28;01mreturn\u001b[39;00m _reindex_for_setitem(value, \u001b[38;5;28mself\u001b[39m\u001b[38;5;241m.\u001b[39mindex)\n\u001b[0;32m   5265\u001b[0m \u001b[38;5;28;01mif\u001b[39;00m is_list_like(value):\n\u001b[1;32m-> 5266\u001b[0m     \u001b[43mcom\u001b[49m\u001b[38;5;241;43m.\u001b[39;49m\u001b[43mrequire_length_match\u001b[49m\u001b[43m(\u001b[49m\u001b[43mvalue\u001b[49m\u001b[43m,\u001b[49m\u001b[43m \u001b[49m\u001b[38;5;28;43mself\u001b[39;49m\u001b[38;5;241;43m.\u001b[39;49m\u001b[43mindex\u001b[49m\u001b[43m)\u001b[49m\n\u001b[0;32m   5267\u001b[0m arr \u001b[38;5;241m=\u001b[39m sanitize_array(value, \u001b[38;5;28mself\u001b[39m\u001b[38;5;241m.\u001b[39mindex, copy\u001b[38;5;241m=\u001b[39m\u001b[38;5;28;01mTrue\u001b[39;00m, allow_2d\u001b[38;5;241m=\u001b[39m\u001b[38;5;28;01mTrue\u001b[39;00m)\n\u001b[0;32m   5268\u001b[0m \u001b[38;5;28;01mif\u001b[39;00m (\n\u001b[0;32m   5269\u001b[0m     \u001b[38;5;28misinstance\u001b[39m(value, Index)\n\u001b[0;32m   5270\u001b[0m     \u001b[38;5;129;01mand\u001b[39;00m value\u001b[38;5;241m.\u001b[39mdtype \u001b[38;5;241m==\u001b[39m \u001b[38;5;124m\"\u001b[39m\u001b[38;5;124mobject\u001b[39m\u001b[38;5;124m\"\u001b[39m\n\u001b[1;32m   (...)\u001b[0m\n\u001b[0;32m   5273\u001b[0m     \u001b[38;5;66;03m# TODO: Remove kludge in sanitize_array for string mode when enforcing\u001b[39;00m\n\u001b[0;32m   5274\u001b[0m     \u001b[38;5;66;03m# this deprecation\u001b[39;00m\n",
      "File \u001b[1;32mc:\\DevTool\\anaconda3\\envs\\torch_book\\Lib\\site-packages\\pandas\\core\\common.py:573\u001b[0m, in \u001b[0;36mrequire_length_match\u001b[1;34m(data, index)\u001b[0m\n\u001b[0;32m    569\u001b[0m \u001b[38;5;250m\u001b[39m\u001b[38;5;124;03m\"\"\"\u001b[39;00m\n\u001b[0;32m    570\u001b[0m \u001b[38;5;124;03mCheck the length of data matches the length of the index.\u001b[39;00m\n\u001b[0;32m    571\u001b[0m \u001b[38;5;124;03m\"\"\"\u001b[39;00m\n\u001b[0;32m    572\u001b[0m \u001b[38;5;28;01mif\u001b[39;00m \u001b[38;5;28mlen\u001b[39m(data) \u001b[38;5;241m!=\u001b[39m \u001b[38;5;28mlen\u001b[39m(index):\n\u001b[1;32m--> 573\u001b[0m     \u001b[38;5;28;01mraise\u001b[39;00m \u001b[38;5;167;01mValueError\u001b[39;00m(\n\u001b[0;32m    574\u001b[0m         \u001b[38;5;124m\"\u001b[39m\u001b[38;5;124mLength of values \u001b[39m\u001b[38;5;124m\"\u001b[39m\n\u001b[0;32m    575\u001b[0m         \u001b[38;5;124mf\u001b[39m\u001b[38;5;124m\"\u001b[39m\u001b[38;5;124m(\u001b[39m\u001b[38;5;132;01m{\u001b[39;00m\u001b[38;5;28mlen\u001b[39m(data)\u001b[38;5;132;01m}\u001b[39;00m\u001b[38;5;124m) \u001b[39m\u001b[38;5;124m\"\u001b[39m\n\u001b[0;32m    576\u001b[0m         \u001b[38;5;124m\"\u001b[39m\u001b[38;5;124mdoes not match length of index \u001b[39m\u001b[38;5;124m\"\u001b[39m\n\u001b[0;32m    577\u001b[0m         \u001b[38;5;124mf\u001b[39m\u001b[38;5;124m\"\u001b[39m\u001b[38;5;124m(\u001b[39m\u001b[38;5;132;01m{\u001b[39;00m\u001b[38;5;28mlen\u001b[39m(index)\u001b[38;5;132;01m}\u001b[39;00m\u001b[38;5;124m)\u001b[39m\u001b[38;5;124m\"\u001b[39m\n\u001b[0;32m    578\u001b[0m     )\n",
      "\u001b[1;31mValueError\u001b[0m: Length of values (1440) does not match length of index (24)"
     ]
    }
   ],
   "source": [
    "data_opti = hourly_data_one_day.copy()\n",
    "data_opti['flux'] = optimized_flow\n",
    "hourly_opti_flux = data_opti.resample('h').sum()['flux']\n",
    "cost_opti = calculate_daily_cost_by_linear(data_opti)"
   ]
  },
  {
   "cell_type": "code",
   "execution_count": null,
   "metadata": {},
   "outputs": [
    {
     "name": "stdout",
     "output_type": "stream",
     "text": [
      "Total daily electricity cost: 352,454 KRW\n",
      "Total daily electricity cost used optimization : 314,316 KRW\n",
      "Save money on electricity bills : 38,137 KRW\n",
      "electricity bill savings rate : 10.82 % 감소\n"
     ]
    }
   ],
   "source": [
    "data_opti = data.copy()\n",
    "data_opti['flux'] = optimized_flow\n",
    "hourly_opti_flux = data_opti.resample('h').sum()\n",
    "cost_opti = calculate_daily_cost_by_linear_hourly(hourly_opti_flux)\n",
    "cost_format_opti = format(int(cost_opti[0]), ',')\n",
    "\n",
    "saved_cost = cost - cost_opti\n",
    "saved_cost_format = format(int(saved_cost), ',')\n",
    "print(f'Total daily electricity cost: {cost_format} KRW')\n",
    "print(f'Total daily electricity cost used optimization : {cost_format_opti} KRW')\n",
    "print(f'Save money on electricity bills : {saved_cost_format} KRW')\n",
    "print(f'electricity bill savings rate : {(1 - (int(cost_opti) / int(cost))) * 100:.2f} % 감소')"
   ]
  },
  {
   "cell_type": "code",
   "execution_count": null,
   "metadata": {},
   "outputs": [],
   "source": []
  },
  {
   "cell_type": "code",
   "execution_count": null,
   "metadata": {},
   "outputs": [],
   "source": []
  }
 ],
 "metadata": {
  "kernelspec": {
   "display_name": "torch_book",
   "language": "python",
   "name": "python3"
  },
  "language_info": {
   "codemirror_mode": {
    "name": "ipython",
    "version": 3
   },
   "file_extension": ".py",
   "mimetype": "text/x-python",
   "name": "python",
   "nbconvert_exporter": "python",
   "pygments_lexer": "ipython3",
   "version": "3.12.7"
  }
 },
 "nbformat": 4,
 "nbformat_minor": 2
}
