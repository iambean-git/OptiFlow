{
 "cells": [
  {
   "cell_type": "code",
   "execution_count": 13,
   "metadata": {},
   "outputs": [],
   "source": [
    "from preamble import *\n",
    "\n",
    "data1 = pd.DataFrame(pd.read_csv('data/raw data/75.csv', header=None))\n",
    "data2 = pd.DataFrame(pd.read_csv('data/raw data/77.csv', header=None))\n",
    "data3 = pd.DataFrame(pd.read_csv('data/raw data/76.csv', header=None))\n",
    "\n",
    "input = data1.set_index(1)[2]\n",
    "output = data2.set_index(1)[2]\n",
    "height = data3.set_index(1)[2]\n",
    "\n",
    "data = pd.DataFrame({'reservoir_id' : 12, 'input':input, 'output':output,'height':height})\n",
    "data.index.name = 'observation_time'\n",
    "data = data.astype(float)\n",
    "data['reservoir_id'] = data['reservoir_id'].astype(int)\n",
    "data.index = pd.to_datetime(data.index)\n",
    "data.reset_index(inplace=True)\n",
    "\n",
    "start_date = pd.to_datetime('2023-10-01')  # 시작 날짜 (2023년 10월 1일)\n",
    "end_date = pd.to_datetime('2023-11-01')  # 종료 날짜 (2023년 11월 1일)\n",
    "\n",
    "data = data.loc[(data['observation_time'] >= start_date) & (data['observation_time'] < end_date)]\n",
    "data.reset_index(inplace=True, drop=True)\n",
    "\n",
    "data.to_csv(path_or_buf='data/temp/k.csv', index=False)"
   ]
  },
  {
   "cell_type": "code",
   "execution_count": 16,
   "metadata": {},
   "outputs": [
    {
     "data": {
      "text/plain": [
       "(401400, 5)"
      ]
     },
     "execution_count": 16,
     "metadata": {},
     "output_type": "execute_result"
    }
   ],
   "source": [
    "a = pd.DataFrame(pd.read_csv('data/temp/a.csv'))\n",
    "b = pd.DataFrame(pd.read_csv('data/temp/b.csv'))\n",
    "d = pd.DataFrame(pd.read_csv('data/temp/d.csv'))\n",
    "e = pd.DataFrame(pd.read_csv('data/temp/e.csv'))\n",
    "g = pd.DataFrame(pd.read_csv('data/temp/g.csv'))\n",
    "i = pd.DataFrame(pd.read_csv('data/temp/i.csv'))\n",
    "j = pd.DataFrame(pd.read_csv('data/temp/j.csv'))\n",
    "k = pd.DataFrame(pd.read_csv('data/temp/k.csv'))\n",
    "l = pd.DataFrame(pd.read_csv('data/temp/l.csv'))\n",
    "\n",
    "result = pd.concat([a, b, d, e, g, i, j, k, l], ignore_index=True)\n",
    "result.shape"
   ]
  },
  {
   "cell_type": "code",
   "execution_count": 17,
   "metadata": {},
   "outputs": [],
   "source": [
    "result.to_csv(path_or_buf='data/reservoir_merged.csv', index=False)"
   ]
  }
 ],
 "metadata": {
  "kernelspec": {
   "display_name": "torch_book",
   "language": "python",
   "name": "python3"
  },
  "language_info": {
   "codemirror_mode": {
    "name": "ipython",
    "version": 3
   },
   "file_extension": ".py",
   "mimetype": "text/x-python",
   "name": "python",
   "nbconvert_exporter": "python",
   "pygments_lexer": "ipython3",
   "version": "3.12.7"
  }
 },
 "nbformat": 4,
 "nbformat_minor": 2
}
