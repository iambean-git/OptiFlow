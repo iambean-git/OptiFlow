{
 "cells": [
  {
   "cell_type": "code",
   "execution_count": null,
   "metadata": {},
   "outputs": [],
   "source": [
    "from preamble import *\n",
    "\n",
    "data1 = pd.DataFrame(pd.read_csv('data/raw data/20.csv', header=None))\n",
    "data2 = pd.DataFrame(pd.read_csv('data/raw data/70.csv', header=None))\n",
    "data3 = pd.DataFrame(pd.read_csv('data/raw data/21.csv', header=None))\n",
    "# data4 = pd.DataFrame(pd.read_csv('data/raw data/12.csv', header=None))\n",
    "\n",
    "input = data1.set_index(1)[2]\n",
    "# output = data1.set_index(1)[2]\n",
    "height = data3.set_index(1)[2]\n",
    "height_delta = height - height.shift(1)\n",
    "max_height = 5\n",
    "area = 200\n",
    "\n",
    "data = pd.DataFrame({'reservoir_id' : 2, 'input':input, 'output':output,'height':height})\n",
    "data.index.name = 'observation_time'\n",
    "data = data.astype(float)\n",
    "data.reset_index(inplace=True)\n",
    "\n",
    "data['observation_time'] = pd.to_datetime(data['observation_time'])\n",
    "data['hour'] = data['observation_time'].dt.floor('h')\n",
    "hourly_data = data.groupby(['reservoir_id', 'hour']).mean(numeric_only=True)\n",
    "\n",
    "hourly_data.reset_index(inplace=True)\n",
    "\n",
    "hourly_data = hourly_data.rename(columns={\n",
    "  'hour': 'observation_time', \n",
    "})\n",
    "\n",
    "new_order = ['observation_time', 'reservoir_id', 'input', 'output', 'height']\n",
    "\n",
    "hourly_data = hourly_data[new_order]\n",
    "\n",
    "hourly_data['reservoir_id'] = hourly_data['reservoir_id'].astype(int)\n",
    "\n",
    "hourly_data.to_csv(path_or_buf='data/reservoir/c.csv', index=False)"
   ]
  },
  {
   "cell_type": "code",
   "execution_count": null,
   "metadata": {},
   "outputs": [
    {
     "data": {
      "text/plain": [
       "(141657, 5)"
      ]
     },
     "execution_count": 10,
     "metadata": {},
     "output_type": "execute_result"
    }
   ],
   "source": [
    "a = pd.DataFrame(pd.read_csv('data/reservoir/a.csv'))\n",
    "b = pd.DataFrame(pd.read_csv('data/reservoir/b.csv'))\n",
    "c = pd.DataFrame(pd.read_csv('data/reservoir/c.csv'))\n",
    "d = pd.DataFrame(pd.read_csv('data/reservoir/d.csv'))\n",
    "e = pd.DataFrame(pd.read_csv('data/reservoir/e.csv'))\n",
    "f = pd.DataFrame(pd.read_csv('data/reservoir/f.csv'))\n",
    "g = pd.DataFrame(pd.read_csv('data/reservoir/g.csv'))\n",
    "h = pd.DataFrame(pd.read_csv('data/reservoir/h.csv'))\n",
    "i = pd.DataFrame(pd.read_csv('data/reservoir/i.csv'))\n",
    "j = pd.DataFrame(pd.read_csv('data/reservoir/j.csv'))\n",
    "k = pd.DataFrame(pd.read_csv('data/reservoir/k.csv'))\n",
    "l = pd.DataFrame(pd.read_csv('data/reservoir/l.csv'))\n",
    "\n",
    "result = pd.concat([a, b,c, d, e, f, g, h, i, j, k, l], ignore_index=True)\n",
    "result.shape"
   ]
  },
  {
   "cell_type": "code",
   "execution_count": null,
   "metadata": {},
   "outputs": [],
   "source": [
    "result.to_csv(path_or_buf='data/reservoir_merged_hourly.csv', index=False)"
   ]
  },
  {
   "cell_type": "code",
   "execution_count": null,
   "metadata": {},
   "outputs": [],
   "source": [
    "result['input'] = round(result['input'], 2)"
   ]
  },
  {
   "cell_type": "code",
   "execution_count": 14,
   "metadata": {},
   "outputs": [],
   "source": [
    "result['output'] = round(result['output'], 2)\n",
    "result['height'] = round(result['height'], 2)"
   ]
  },
  {
   "cell_type": "code",
   "execution_count": 15,
   "metadata": {},
   "outputs": [
    {
     "data": {
      "text/html": [
       "<div>\n",
       "<style scoped>\n",
       "    .dataframe tbody tr th:only-of-type {\n",
       "        vertical-align: middle;\n",
       "    }\n",
       "\n",
       "    .dataframe tbody tr th {\n",
       "        vertical-align: top;\n",
       "    }\n",
       "\n",
       "    .dataframe thead th {\n",
       "        text-align: right;\n",
       "    }\n",
       "</style>\n",
       "<table border=\"1\" class=\"dataframe\">\n",
       "  <thead>\n",
       "    <tr style=\"text-align: right;\">\n",
       "      <th></th>\n",
       "      <th>observation_time</th>\n",
       "      <th>reservoir_id</th>\n",
       "      <th>input</th>\n",
       "      <th>output</th>\n",
       "      <th>height</th>\n",
       "    </tr>\n",
       "  </thead>\n",
       "  <tbody>\n",
       "    <tr>\n",
       "      <th>0</th>\n",
       "      <td>2023-01-01 00:00:00</td>\n",
       "      <td>5</td>\n",
       "      <td>308.02</td>\n",
       "      <td>202.54</td>\n",
       "      <td>2.52</td>\n",
       "    </tr>\n",
       "    <tr>\n",
       "      <th>1</th>\n",
       "      <td>2023-01-01 01:00:00</td>\n",
       "      <td>5</td>\n",
       "      <td>284.42</td>\n",
       "      <td>129.78</td>\n",
       "      <td>2.77</td>\n",
       "    </tr>\n",
       "    <tr>\n",
       "      <th>2</th>\n",
       "      <td>2023-01-01 02:00:00</td>\n",
       "      <td>5</td>\n",
       "      <td>263.23</td>\n",
       "      <td>188.98</td>\n",
       "      <td>2.99</td>\n",
       "    </tr>\n",
       "    <tr>\n",
       "      <th>3</th>\n",
       "      <td>2023-01-01 03:00:00</td>\n",
       "      <td>5</td>\n",
       "      <td>262.98</td>\n",
       "      <td>150.53</td>\n",
       "      <td>3.15</td>\n",
       "    </tr>\n",
       "    <tr>\n",
       "      <th>4</th>\n",
       "      <td>2023-01-01 04:00:00</td>\n",
       "      <td>5</td>\n",
       "      <td>211.58</td>\n",
       "      <td>147.40</td>\n",
       "      <td>3.33</td>\n",
       "    </tr>\n",
       "  </tbody>\n",
       "</table>\n",
       "</div>"
      ],
      "text/plain": [
       "      observation_time  reservoir_id   input  output  height\n",
       "0  2023-01-01 00:00:00             5  308.02  202.54    2.52\n",
       "1  2023-01-01 01:00:00             5  284.42  129.78    2.77\n",
       "2  2023-01-01 02:00:00             5  263.23  188.98    2.99\n",
       "3  2023-01-01 03:00:00             5  262.98  150.53    3.15\n",
       "4  2023-01-01 04:00:00             5  211.58  147.40    3.33"
      ]
     },
     "execution_count": 15,
     "metadata": {},
     "output_type": "execute_result"
    }
   ],
   "source": [
    "result.head()"
   ]
  },
  {
   "cell_type": "code",
   "execution_count": 16,
   "metadata": {},
   "outputs": [],
   "source": [
    "result.to_csv(path_or_buf='data/reservoir_merged_all.csv', index=False)"
   ]
  },
  {
   "cell_type": "code",
   "execution_count": null,
   "metadata": {},
   "outputs": [],
   "source": []
  }
 ],
 "metadata": {
  "kernelspec": {
   "display_name": "torch_book",
   "language": "python",
   "name": "python3"
  },
  "language_info": {
   "codemirror_mode": {
    "name": "ipython",
    "version": 3
   },
   "file_extension": ".py",
   "mimetype": "text/x-python",
   "name": "python",
   "nbconvert_exporter": "python",
   "pygments_lexer": "ipython3",
   "version": "3.12.7"
  }
 },
 "nbformat": 4,
 "nbformat_minor": 2
}
