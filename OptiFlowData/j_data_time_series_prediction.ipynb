{
 "cells": [
  {
   "cell_type": "code",
   "execution_count": 1,
   "metadata": {},
   "outputs": [],
   "source": [
    "from preamble import *"
   ]
  },
  {
   "cell_type": "code",
   "execution_count": 2,
   "metadata": {},
   "outputs": [
    {
     "name": "stdout",
     "output_type": "stream",
     "text": [
      "<class 'pandas.core.frame.DataFrame'> (943412, 11)\n"
     ]
    }
   ],
   "source": [
    "data = pd.read_csv('./data/j_data.csv')\n",
    "print(type(data), data.shape)"
   ]
  },
  {
   "cell_type": "code",
   "execution_count": 3,
   "metadata": {},
   "outputs": [
    {
     "data": {
      "text/html": [
       "<div>\n",
       "<style scoped>\n",
       "    .dataframe tbody tr th:only-of-type {\n",
       "        vertical-align: middle;\n",
       "    }\n",
       "\n",
       "    .dataframe tbody tr th {\n",
       "        vertical-align: top;\n",
       "    }\n",
       "\n",
       "    .dataframe thead th {\n",
       "        text-align: right;\n",
       "    }\n",
       "</style>\n",
       "<table border=\"1\" class=\"dataframe\">\n",
       "  <thead>\n",
       "    <tr style=\"text-align: right;\">\n",
       "      <th></th>\n",
       "      <th>input_flow</th>\n",
       "      <th>height_new</th>\n",
       "      <th>height_old</th>\n",
       "      <th>temperature</th>\n",
       "      <th>precipitation</th>\n",
       "      <th>wind_speed</th>\n",
       "      <th>humidity</th>\n",
       "      <th>atmospheric_pressure</th>\n",
       "      <th>snow</th>\n",
       "    </tr>\n",
       "  </thead>\n",
       "  <tbody>\n",
       "    <tr>\n",
       "      <th>0</th>\n",
       "      <td>75.23</td>\n",
       "      <td>4.97</td>\n",
       "      <td>2.05</td>\n",
       "      <td>-0.9</td>\n",
       "      <td>0.0</td>\n",
       "      <td>1.4</td>\n",
       "      <td>72.0</td>\n",
       "      <td>1023.6</td>\n",
       "      <td>0.0</td>\n",
       "    </tr>\n",
       "    <tr>\n",
       "      <th>1</th>\n",
       "      <td>74.65</td>\n",
       "      <td>4.97</td>\n",
       "      <td>2.05</td>\n",
       "      <td>-0.9</td>\n",
       "      <td>0.0</td>\n",
       "      <td>1.4</td>\n",
       "      <td>72.0</td>\n",
       "      <td>1023.6</td>\n",
       "      <td>0.0</td>\n",
       "    </tr>\n",
       "    <tr>\n",
       "      <th>2</th>\n",
       "      <td>75.28</td>\n",
       "      <td>4.97</td>\n",
       "      <td>2.05</td>\n",
       "      <td>-0.9</td>\n",
       "      <td>0.0</td>\n",
       "      <td>1.4</td>\n",
       "      <td>72.0</td>\n",
       "      <td>1023.6</td>\n",
       "      <td>0.0</td>\n",
       "    </tr>\n",
       "    <tr>\n",
       "      <th>3</th>\n",
       "      <td>74.67</td>\n",
       "      <td>4.97</td>\n",
       "      <td>2.05</td>\n",
       "      <td>-0.9</td>\n",
       "      <td>0.0</td>\n",
       "      <td>1.4</td>\n",
       "      <td>72.0</td>\n",
       "      <td>1023.6</td>\n",
       "      <td>0.0</td>\n",
       "    </tr>\n",
       "    <tr>\n",
       "      <th>4</th>\n",
       "      <td>75.06</td>\n",
       "      <td>4.97</td>\n",
       "      <td>2.05</td>\n",
       "      <td>-0.9</td>\n",
       "      <td>0.0</td>\n",
       "      <td>1.4</td>\n",
       "      <td>72.0</td>\n",
       "      <td>1023.6</td>\n",
       "      <td>0.0</td>\n",
       "    </tr>\n",
       "  </tbody>\n",
       "</table>\n",
       "</div>"
      ],
      "text/plain": [
       "   input_flow  height_new  height_old  temperature  precipitation  wind_speed  \\\n",
       "0       75.23        4.97        2.05         -0.9            0.0         1.4   \n",
       "1       74.65        4.97        2.05         -0.9            0.0         1.4   \n",
       "2       75.28        4.97        2.05         -0.9            0.0         1.4   \n",
       "3       74.67        4.97        2.05         -0.9            0.0         1.4   \n",
       "4       75.06        4.97        2.05         -0.9            0.0         1.4   \n",
       "\n",
       "   humidity  atmospheric_pressure  snow  \n",
       "0      72.0                1023.6   0.0  \n",
       "1      72.0                1023.6   0.0  \n",
       "2      72.0                1023.6   0.0  \n",
       "3      72.0                1023.6   0.0  \n",
       "4      72.0                1023.6   0.0  "
      ]
     },
     "execution_count": 3,
     "metadata": {},
     "output_type": "execute_result"
    }
   ],
   "source": [
    "data_dropped = data.drop(columns=['Date', 'output_flow'])\n",
    "target = data['output_flow'].values.reshape(-1, 1)\n",
    "data_dropped.head()"
   ]
  },
  {
   "cell_type": "code",
   "execution_count": 4,
   "metadata": {},
   "outputs": [
    {
     "data": {
      "text/plain": [
       "('2.5.1', True)"
      ]
     },
     "execution_count": 4,
     "metadata": {},
     "output_type": "execute_result"
    }
   ],
   "source": [
    "import torch\n",
    "import torch.nn as nn\n",
    "\n",
    "torch.__version__, torch.cuda.is_available()"
   ]
  },
  {
   "cell_type": "code",
   "execution_count": 6,
   "metadata": {},
   "outputs": [
    {
     "name": "stdout",
     "output_type": "stream",
     "text": [
      "(660388, 9) (283024, 9)\n"
     ]
    }
   ],
   "source": [
    "train_size = int(data.shape[0] * 0.7)\n",
    "\n",
    "trainset_feature = data_dropped[:train_size]\n",
    "trainset_target = target[:train_size]\n",
    "testset_feature = data_dropped[train_size:]\n",
    "testset_target = target[train_size:]\n",
    "print(trainset_feature.shape, testset_feature.shape)"
   ]
  },
  {
   "cell_type": "code",
   "execution_count": 7,
   "metadata": {},
   "outputs": [],
   "source": [
    "from sklearn.preprocessing import MinMaxScaler\n",
    "\n",
    "scaler_feature = MinMaxScaler()\n",
    "train_feature_scaled = scaler_feature.fit_transform(trainset_feature)\n",
    "test_feature_scaled = scaler_feature.transform(testset_feature)\n",
    "scaler_target = MinMaxScaler()\n",
    "train_target_scaled = scaler_target.fit_transform(trainset_target)\n",
    "test_target_scaled = scaler_target.transform(testset_target)"
   ]
  },
  {
   "cell_type": "code",
   "execution_count": 8,
   "metadata": {},
   "outputs": [],
   "source": [
    "from tqdm import tqdm\n",
    "\n",
    "def split_dataset(data, target, seq_len):\n",
    "  X, y  = [], []\n",
    "  for i in tqdm(range(data.shape[0]-(seq_len))):\n",
    "    X.append(data[i:i+seq_len, :]) \n",
    "    y.append(target[i+seq_len])\n",
    "  return np.array(X), np.array(y)"
   ]
  },
  {
   "cell_type": "code",
   "execution_count": 13,
   "metadata": {},
   "outputs": [
    {
     "name": "stderr",
     "output_type": "stream",
     "text": [
      "  0%|          | 0/660328 [00:00<?, ?it/s]"
     ]
    },
    {
     "name": "stderr",
     "output_type": "stream",
     "text": [
      "100%|██████████| 660328/660328 [00:00<00:00, 1307408.31it/s]\n"
     ]
    }
   ],
   "source": [
    "X_train, y_train = split_dataset(train_feature_scaled, train_target_scaled, 60)"
   ]
  },
  {
   "cell_type": "code",
   "execution_count": 14,
   "metadata": {},
   "outputs": [
    {
     "data": {
      "text/plain": [
       "((660328, 60, 9), (660328, 1))"
      ]
     },
     "execution_count": 14,
     "metadata": {},
     "output_type": "execute_result"
    }
   ],
   "source": [
    "X_train.shape, y_train.shape"
   ]
  },
  {
   "cell_type": "code",
   "execution_count": 15,
   "metadata": {},
   "outputs": [
    {
     "name": "stderr",
     "output_type": "stream",
     "text": [
      "100%|██████████| 282964/282964 [00:00<00:00, 1291795.41it/s]\n"
     ]
    }
   ],
   "source": [
    "X_test, y_test = split_dataset(test_feature_scaled, test_target_scaled, 60)"
   ]
  },
  {
   "cell_type": "code",
   "execution_count": 16,
   "metadata": {},
   "outputs": [],
   "source": [
    "# y_train = y_train.reshape(-1, 1)\n",
    "# y_test = y_test.reshape(-1, 1)"
   ]
  },
  {
   "cell_type": "code",
   "execution_count": 17,
   "metadata": {},
   "outputs": [
    {
     "data": {
      "text/plain": [
       "((660328, 60, 9), (660328, 1), (282964, 60, 9), (282964, 1))"
      ]
     },
     "execution_count": 17,
     "metadata": {},
     "output_type": "execute_result"
    }
   ],
   "source": [
    "X_train.shape, y_train.shape, X_test.shape, y_test.shape"
   ]
  },
  {
   "cell_type": "code",
   "execution_count": 18,
   "metadata": {},
   "outputs": [],
   "source": [
    "X_train_tensor, y_train_tensor = torch.tensor(X_train).float(), torch.tensor(y_train).float()\n",
    "X_test_tensor, y_test_tensor = torch.tensor(X_test).float(), torch.tensor(y_test).float()"
   ]
  },
  {
   "cell_type": "code",
   "execution_count": 28,
   "metadata": {},
   "outputs": [],
   "source": [
    "from torch.utils.data import DataLoader, TensorDataset\n",
    "\n",
    "loader_train = DataLoader(TensorDataset(X_train_tensor, y_train_tensor), shuffle=True,\n",
    "                                           batch_size=64)\n",
    "loader_test = DataLoader(TensorDataset(X_test_tensor, y_test_tensor), shuffle=False,\n",
    "                                          batch_size=64)"
   ]
  },
  {
   "cell_type": "code",
   "execution_count": 32,
   "metadata": {},
   "outputs": [],
   "source": [
    "class LSTMModel(nn.Module):\n",
    "  def __init__(self, input_size, hidden_size, output_size):\n",
    "    super(LSTMModel, self).__init__()\n",
    "    self.lstm = nn.LSTM(input_size, hidden_size, batch_first=True)\n",
    "    self.fc = nn.Linear(hidden_size, output_size)\n",
    "\n",
    "  def forward(self, x):\n",
    "    lstm_out, _ = self.lstm(x)\n",
    "    last_out = lstm_out[:, -1, :]\n",
    "    out = self.fc(last_out)\n",
    "    return out\n",
    "\n",
    "input_size = 9\n",
    "hidden_size = 50\n",
    "output_size = 1\n",
    "model = LSTMModel(input_size, hidden_size, output_size)\n"
   ]
  },
  {
   "cell_type": "code",
   "execution_count": 33,
   "metadata": {},
   "outputs": [
    {
     "name": "stdout",
     "output_type": "stream",
     "text": [
      "tensor([0.0764], grad_fn=<SelectBackward0>) tensor([0.9576])\n"
     ]
    }
   ],
   "source": [
    "for I, label in loader_train:\n",
    "  print(model(I)[0], label[0])\n",
    "  break"
   ]
  },
  {
   "cell_type": "code",
   "execution_count": 34,
   "metadata": {},
   "outputs": [],
   "source": [
    "import torch.optim as optim\n",
    "\n",
    "# loss_fn = torch.nn.MSELoss(reduction='mean')\n",
    "loss_fn = nn.MSELoss()\n",
    "optimizer = optim.Adam(model.parameters(), lr=0.001)"
   ]
  },
  {
   "cell_type": "code",
   "execution_count": 35,
   "metadata": {},
   "outputs": [],
   "source": [
    "device = torch.device(\"cuda\" if torch.cuda.is_available() else \"cpu\")"
   ]
  },
  {
   "cell_type": "code",
   "execution_count": 36,
   "metadata": {},
   "outputs": [
    {
     "name": "stdout",
     "output_type": "stream",
     "text": [
      "Epoch [1/1], Loss: 0.0000\n"
     ]
    }
   ],
   "source": [
    "num_epochs = 1\n",
    "# loss_history = []\n",
    "model.train()\n",
    "model.to(device)\n",
    "for epoch in range(num_epochs):\n",
    "  running_loss = 0.0\n",
    "  for X_batch, y_batch in loader_train:\n",
    "    X_batch, y_batch = X_batch.to(device), y_batch.to(device)\n",
    "\n",
    "    out = model(X_batch)\n",
    "    loss = loss_fn(out, y_batch)\n",
    "\n",
    "    optimizer.zero_grad()\n",
    "    loss.backward()\n",
    "    optimizer.step()\n",
    "\n",
    "    running_loss += loss.item()\n",
    "\n",
    "  # loss_history.append(running_loss / len(loader_train.dataset))\n",
    "  print(f\"Epoch [{epoch+1}/{num_epochs}], Loss: {running_loss / len(loader_train.dataset):.4f}\")"
   ]
  },
  {
   "cell_type": "code",
   "execution_count": null,
   "metadata": {},
   "outputs": [],
   "source": []
  }
 ],
 "metadata": {
  "kernelspec": {
   "display_name": "torch_book",
   "language": "python",
   "name": "python3"
  },
  "language_info": {
   "codemirror_mode": {
    "name": "ipython",
    "version": 3
   },
   "file_extension": ".py",
   "mimetype": "text/x-python",
   "name": "python",
   "nbconvert_exporter": "python",
   "pygments_lexer": "ipython3",
   "version": "3.12.7"
  }
 },
 "nbformat": 4,
 "nbformat_minor": 2
}
