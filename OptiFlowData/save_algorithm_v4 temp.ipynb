{
 "cells": [
  {
   "cell_type": "code",
   "execution_count": 1,
   "metadata": {},
   "outputs": [],
   "source": [
    "from preamble import *"
   ]
  },
  {
   "cell_type": "code",
   "execution_count": 2,
   "metadata": {},
   "outputs": [],
   "source": [
    "file_path = './data/d_pressure_flux_outflow.csv'"
   ]
  },
  {
   "cell_type": "code",
   "execution_count": 4,
   "metadata": {},
   "outputs": [],
   "source": [
    "data = pd.read_csv(file_path)\n",
    "data['datetime'] = pd.to_datetime(data['datetime'])\n",
    "data_one_day = data[:1440]"
   ]
  },
  {
   "cell_type": "code",
   "execution_count": 5,
   "metadata": {},
   "outputs": [
    {
     "name": "stderr",
     "output_type": "stream",
     "text": [
      "c:\\DevTool\\anaconda3\\envs\\torch_book\\Lib\\site-packages\\sklearn\\base.py:380: InconsistentVersionWarning: Trying to unpickle estimator LinearRegression from version 1.6.0 when using version 1.6.1. This might lead to breaking code or invalid results. Use at your own risk. For more info please refer to:\n",
      "https://scikit-learn.org/stable/model_persistence.html#security-maintainability-limitations\n",
      "  warnings.warn(\n",
      "c:\\DevTool\\anaconda3\\envs\\torch_book\\Lib\\site-packages\\sklearn\\base.py:380: InconsistentVersionWarning: Trying to unpickle estimator PolynomialFeatures from version 1.6.0 when using version 1.6.1. This might lead to breaking code or invalid results. Use at your own risk. For more info please refer to:\n",
      "https://scikit-learn.org/stable/model_persistence.html#security-maintainability-limitations\n",
      "  warnings.warn(\n"
     ]
    }
   ],
   "source": [
    "import pickle\n",
    "\n",
    "with open('best_polynomial_regression_model.pkl', 'rb') as f:\n",
    "  model, poly = pickle.load(f)"
   ]
  },
  {
   "cell_type": "code",
   "execution_count": 6,
   "metadata": {},
   "outputs": [],
   "source": [
    "from datetime import datetime, time\n",
    "\n",
    "# 전기 요금 정보 (인상된 요금 반영)\n",
    "electricity_rates = {\n",
    "    'summer': {\n",
    "        'off_peak': 64.37,  # 경부하 요금 (원/kWh)\n",
    "        'mid_peak': 92.46,  # 중간부하 요금 (원/kWh)\n",
    "        'on_peak': 123.88   # 최대부하 요금 (원/kWh)\n",
    "    },\n",
    "    'spring_fall': {\n",
    "        'off_peak': 64.37,  # 경부하 요금 (원/kWh)\n",
    "        'mid_peak': 69.50,  # 중간부하 요금 (원/kWh)\n",
    "        'on_peak': 86.88    # 최대부하 요금 (원/kWh)\n",
    "    },\n",
    "    'winter': {\n",
    "        'off_peak': 71.88,  # 경부하 요금 (원/kWh)\n",
    "        'mid_peak': 90.80,  # 중간부하 요금 (원/kWh)\n",
    "        'on_peak': 116.47   # 최대부하 요금 (원/kWh)\n",
    "    }\n",
    "}\n",
    "\n",
    "# 시간대 구분\n",
    "time_periods = {\n",
    "    'summer': {\n",
    "        'off_peak': [(time(23, 0), time(9, 0))],\n",
    "        'mid_peak': [(time(9, 0), time(11, 0)), (time(12, 0), time(13, 0)), (time(17, 0), time(23, 0))],\n",
    "        'on_peak': [(time(11, 0), time(12, 0)), (time(13, 0), time(17, 0))]\n",
    "    },\n",
    "    'spring_fall': {\n",
    "        'off_peak': [(time(23, 0), time(9, 0))],\n",
    "        'mid_peak': [(time(9, 0), time(11, 0)), (time(12, 0), time(13, 0)), (time(17, 0), time(23, 0))],\n",
    "        'on_peak': [(time(11, 0), time(12, 0)), (time(13, 0), time(17, 0))]\n",
    "    },\n",
    "    'winter': {\n",
    "        'off_peak': [(time(23, 0), time(9, 0))],\n",
    "        'mid_peak': [(time(9, 0), time(10, 0)), (time(12, 0), time(17, 0)), (time(20, 0), time(22, 0))],\n",
    "        'on_peak': [(time(10, 0), time(12, 0)), (time(17, 0), time(20, 0)), (time(22, 0), time(23, 0))]\n",
    "    }\n",
    "}"
   ]
  },
  {
   "cell_type": "code",
   "execution_count": 7,
   "metadata": {},
   "outputs": [],
   "source": [
    "def get_season_and_period(dt):\n",
    "  month = dt.month\n",
    "  current_time = dt.time()\n",
    "  \n",
    "  if month in [7, 8]:\n",
    "    season = 'summer'\n",
    "  elif month in [11, 12, 1, 2]:\n",
    "    season = 'winter'\n",
    "  else:\n",
    "    season = 'spring_fall'\n",
    "  \n",
    "  for period, times in time_periods[season].items():\n",
    "    for start, end in times:\n",
    "      if start <= current_time < end:\n",
    "        return season, period\n",
    "  return season, 'off_peak'"
   ]
  },
  {
   "cell_type": "code",
   "execution_count": 10,
   "metadata": {},
   "outputs": [],
   "source": [
    "from sklearn.preprocessing import PolynomialFeatures\n",
    "\n",
    "def calculate_daily_cost_by_linear(data):\n",
    "  # data = pd.read_csv(file_path, parse_dates=['datetime'])\n",
    "  total_cost = 0\n",
    "  poly = PolynomialFeatures(3)\n",
    "  for _, row in data.iterrows():\n",
    "    season, period = get_season_and_period(row['datetime'])\n",
    "    flux_poly = poly.fit_transform(np.array([[row['flux']]]))\n",
    "    power_kW = model.predict(flux_poly)[0]\n",
    "    cost_per_kWh = electricity_rates[season][period]\n",
    "    energy_kWh = power_kW / 60  # converting kW to kWh per minute\n",
    "    total_cost += energy_kWh * cost_per_kWh\n",
    "    # print(power_kW)\n",
    "  return total_cost"
   ]
  },
  {
   "cell_type": "code",
   "execution_count": 11,
   "metadata": {},
   "outputs": [],
   "source": [
    "cost = calculate_daily_cost_by_linear(data_one_day)\n",
    "cost_format = format(int(cost), ',')"
   ]
  },
  {
   "cell_type": "code",
   "execution_count": 12,
   "metadata": {},
   "outputs": [],
   "source": [
    "from datetime import timedelta\n",
    "\n",
    "def optimize_pump_flow(data, v_initial, capacity, max_flow = 250):\n",
    "  outflow = data['outflow'].values\n",
    "  minutes = len(data['datetime'])\n",
    "  pump_flow = np.zeros(minutes)  # 각 분당 펌프 유량 설정\n",
    "  over_flow = np.zeros(minutes)  # 넘으면 저장\n",
    "  lower_flow = np.zeros(minutes)  # 모자라면 저장\n",
    "  storage = v_initial  # 초기 배수지 저장량\n",
    "  start_time = data['datetime'][0]\n",
    "  v_min, v_max = capacity * 0.31, capacity * 0.94 # 1% 보수적 한계\n",
    "  \n",
    "  hourly_flow = 0  # 현재 1시간 동안 유지될 유량\n",
    "\n",
    "  for minute in range(minutes):\n",
    "    if minute % 60 == 0:  # 정각마다 유량 조정\n",
    "      start_idx = minute\n",
    "      end_idx = start_idx + 60\n",
    "      expected_outflow = np.sum(outflow[start_idx:end_idx]) / 60  # 시간 단위로 변환\n",
    "      \n",
    "      # 전기 요금이 싼 심야 시간 우선 활용\n",
    "      t = minute // 60 \n",
    "      current_time = start_time + timedelta(hours=t)\n",
    "      season, period = get_season_and_period(current_time)\n",
    "\n",
    "      # cost_per_kWh = electricity_rates[season][period]\n",
    "      \n",
    "      # 저장량을 유지하기 위한 기본 필요 유입량\n",
    "      hourly_flow = expected_outflow\n",
    "      \n",
    "      # 심야 시간 요금 절약을 위해 조정 (추가적인 충전 고려)\n",
    "      if period == 'off_peak' and storage + hourly_flow - expected_outflow <= v_max:\n",
    "        hourly_flow += max((v_max - (storage - expected_outflow)) * 0.3, 0) # 추가 충전\n",
    "      elif period == 'mid_peak' and storage + hourly_flow - expected_outflow <= v_max:\n",
    "        hourly_flow += max((v_max - (storage - expected_outflow)) * 0.15, 0) # 추가 충전\n",
    "      if period == 'on_peak' and storage + hourly_flow - expected_outflow >= v_min:\n",
    "        hourly_flow -= max(((storage - expected_outflow) - v_min) * 0.3, 0) # 절감 충전\n",
    "\n",
    "      hourly_flow = max(hourly_flow, 0)\n",
    "      hourly_flow = min(hourly_flow, max_flow)\n",
    "\n",
    "    pump_flow[minute] = max(hourly_flow, 0)\n",
    "    \n",
    "    # 배수지에 반영\n",
    "    storage += pump_flow[minute] - outflow[minute]\n",
    "    if (storage > v_max):\n",
    "      over_flow[minute] = storage - v_max\n",
    "    elif (storage < v_min):\n",
    "      lower_flow[minute] = v_min - storage\n",
    "\n",
    "  over_non_zero_indices =  np.nonzero(over_flow)\n",
    "  lower_non_zero_indices = np.nonzero(lower_flow)\n",
    "\n",
    "  hourly_over_amount = np.zeros(24)\n",
    "  hourly_lower_amount = np.zeros(24)\n",
    "  \n",
    "  if len(over_non_zero_indices[0]) != 0:\n",
    "    for idx in over_non_zero_indices[0]:\n",
    "      # print(f'{idx}분 over')\n",
    "      h = idx // 60\n",
    "      if hourly_over_amount[h] > (-1) * over_flow[idx]:\n",
    "        hourly_over_amount[h] = (-1) * over_flow[idx]\n",
    "  if len(lower_non_zero_indices[0]) != 0:\n",
    "    for idx in lower_non_zero_indices[0]:\n",
    "      # print(f'{idx}분 lower')\n",
    "      h = idx // 60\n",
    "      if hourly_lower_amount[h] < lower_flow[idx]:\n",
    "        hourly_lower_amount[h] = lower_flow[idx]\n",
    "\n",
    "  adjustment = hourly_over_amount + hourly_lower_amount\n",
    "  # print(adjustment)\n",
    "\n",
    "  for i, value in enumerate(adjustment):\n",
    "    if value == 0: continue\n",
    "    else:\n",
    "      pump_flow[i * 60 : (i + 1) * 60] += (value / 60)\n",
    "\n",
    "  return pump_flow\n",
    "\n",
    "v_initial = 1419\n",
    "capacity = 2000\n",
    "optimized_flow = optimize_pump_flow(data_one_day, v_initial, capacity)"
   ]
  },
  {
   "cell_type": "code",
   "execution_count": 13,
   "metadata": {},
   "outputs": [],
   "source": [
    "data_opti = data_one_day.copy()\n",
    "data_opti['flux'] = optimized_flow\n",
    "cost_opti = calculate_daily_cost_by_linear(data_opti)\n",
    "cost_format_opti = format(int(cost_opti), ',')"
   ]
  },
  {
   "cell_type": "code",
   "execution_count": 14,
   "metadata": {},
   "outputs": [
    {
     "name": "stdout",
     "output_type": "stream",
     "text": [
      "Total daily electricity cost: 352,454 KRW\n",
      "Total daily electricity cost used optimization : 311,935 KRW\n",
      "Save money on electricity bills : 40,518 KRW\n",
      "electricity bill savings rate : 11.50 % 감소\n"
     ]
    }
   ],
   "source": [
    "saved_cost = cost - cost_opti\n",
    "saved_cost_format = format(int(saved_cost), ',')\n",
    "print(f'Total daily electricity cost: {cost_format} KRW')\n",
    "print(f'Total daily electricity cost used optimization : {cost_format_opti} KRW')\n",
    "print(f'Save money on electricity bills : {saved_cost_format} KRW')\n",
    "print(f'electricity bill savings rate : {(1 - (int(cost_opti) / int(cost))) * 100:.2f} % 감소')"
   ]
  }
 ],
 "metadata": {
  "kernelspec": {
   "display_name": "torch_book",
   "language": "python",
   "name": "python3"
  },
  "language_info": {
   "codemirror_mode": {
    "name": "ipython",
    "version": 3
   },
   "file_extension": ".py",
   "mimetype": "text/x-python",
   "name": "python",
   "nbconvert_exporter": "python",
   "pygments_lexer": "ipython3",
   "version": "3.12.7"
  }
 },
 "nbformat": 4,
 "nbformat_minor": 2
}
