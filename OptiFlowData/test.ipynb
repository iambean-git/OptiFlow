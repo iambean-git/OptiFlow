{
 "cells": [
  {
   "cell_type": "code",
   "execution_count": 2,
   "metadata": {},
   "outputs": [],
   "source": [
    "import base64\n",
    "import gzip\n",
    "import json\n",
    "import numpy as np"
   ]
  },
  {
   "cell_type": "code",
   "execution_count": 3,
   "metadata": {},
   "outputs": [],
   "source": [
    "# 데이터 압축 및 압축 해제 함수\n",
    "def decompress(data):\n",
    "    \"\"\"데이터를 Base64 및 gzip 방식으로 디코딩하여 반환.\n",
    "        TB_MOTOR 테이블 DATA_ARRAY 시용\n",
    "        \n",
    "        -- TB_MOTOR definition\n",
    "\n",
    "        CREATE TABLE `TB_MOTOR` (\n",
    "          `MOTOR_ID` varchar(30) NOT NULL COMMENT '모터ID',\n",
    "          `EQUIPMENT_ID` varchar(30) NOT NULL COMMENT '장비 KEY',\n",
    "          `CENTER_ID` varchar(20) NOT NULL COMMENT '센터 ID',\n",
    "          `CHANNEL_ID` varchar(20) NOT NULL COMMENT '채널 KEY',\n",
    "          `ACQ_DATE` timestamp NOT NULL DEFAULT current_timestamp() COMMENT '계측 시간',\n",
    "          `DATA_ARRAY` mediumtext DEFAULT NULL COMMENT '진동 데이터',\n",
    "          `PROC_STAT` int(11) DEFAULT 0 COMMENT '알고리즘 동작 여부',\n",
    "          PRIMARY KEY (`MOTOR_ID`,`EQUIPMENT_ID`,`CENTER_ID`,`CHANNEL_ID`,`ACQ_DATE`),\n",
    "          KEY `IDX_TB_MOTER_ACQ_DATE` (`ACQ_DATE`)\n",
    "        ) ENGINE=InnoDB DEFAULT CHARSET=utf8mb4 COLLAT\n",
    "    \n",
    "    \"\"\"\n",
    "    try:\n",
    "        byte_data = gzip.decompress(base64.standard_b64decode(data))\n",
    "        temp = byte_data.decode(\"utf-16\")\n",
    "        temp_jarr = json.loads(temp)\n",
    "        return np.array(list(map(lambda x: float(x), temp_jarr)))\n",
    "    except Exception as e:\n",
    "        logger.error(f\"Data decompression error: {e}\")\n",
    "        raise"
   ]
  }
 ],
 "metadata": {
  "kernelspec": {
   "display_name": "optiflow",
   "language": "python",
   "name": "python3"
  },
  "language_info": {
   "codemirror_mode": {
    "name": "ipython",
    "version": 3
   },
   "file_extension": ".py",
   "mimetype": "text/x-python",
   "name": "python",
   "nbconvert_exporter": "python",
   "pygments_lexer": "ipython3",
   "version": "3.12.7"
  }
 },
 "nbformat": 4,
 "nbformat_minor": 2
}
