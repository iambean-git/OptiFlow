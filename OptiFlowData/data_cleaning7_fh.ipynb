{
 "cells": [
  {
   "cell_type": "code",
   "execution_count": 9,
   "metadata": {},
   "outputs": [],
   "source": [
    "from preamble import *\n",
    "\n",
    "data1 = pd.DataFrame(pd.read_csv('data/raw data/20.csv', header=None))\n",
    "data2 = pd.DataFrame(pd.read_csv('data/raw data/70.csv', header=None))\n",
    "data3 = pd.DataFrame(pd.read_csv('data/raw data/21.csv', header=None))\n",
    "# data4 = pd.DataFrame(pd.read_csv('data/raw data/12.csv', header=None))"
   ]
  },
  {
   "cell_type": "code",
   "execution_count": 10,
   "metadata": {},
   "outputs": [
    {
     "data": {
      "text/plain": [
       "1\n",
       "2023-01-01 00:01:00    60.50\n",
       "2023-01-01 00:02:00    60.07\n",
       "2023-01-01 00:03:00    60.09\n",
       "2023-01-01 00:04:00    60.54\n",
       "2023-01-01 00:05:00    60.60\n",
       "                       ...  \n",
       "2024-10-17 18:45:00      NaN\n",
       "2024-10-17 18:46:00      NaN\n",
       "2024-10-17 18:47:00      NaN\n",
       "2024-10-17 18:48:00      NaN\n",
       "2024-10-17 18:49:00      NaN\n",
       "Name: 2, Length: 943524, dtype: float64"
      ]
     },
     "execution_count": 10,
     "metadata": {},
     "output_type": "execute_result"
    }
   ],
   "source": [
    "max_height = 5\n",
    "area = 200\n",
    "\n",
    "input = data1.set_index(1)[2]\n",
    "# output = data1.set_index(1)[2]\n",
    "height = data3.set_index(1)[2]\n",
    "height_delta = height.shift(-1) - height\n",
    "water_delta = (height_delta / max_height) * area\n",
    "water_delta\n",
    "# input = np.random.rand(943504)\n",
    "output = input + water_delta\n",
    "output"
   ]
  },
  {
   "cell_type": "code",
   "execution_count": 11,
   "metadata": {},
   "outputs": [],
   "source": [
    "data = pd.DataFrame({'reservoir_id' : 2, 'input':input, 'output':output,'height':height})\n",
    "data.index.name = 'observation_time'\n",
    "data = data.astype(float)\n",
    "data.reset_index(inplace=True)\n",
    "\n",
    "data['observation_time'] = pd.to_datetime(data['observation_time'])\n",
    "data['hour'] = data['observation_time'].dt.floor('h')\n",
    "hourly_data = data.groupby(['reservoir_id', 'hour']).mean(numeric_only=True)\n",
    "\n",
    "hourly_data.reset_index(inplace=True)\n",
    "\n",
    "hourly_data = hourly_data.rename(columns={\n",
    "  'hour': 'observation_time', \n",
    "})\n",
    "\n",
    "new_order = ['observation_time', 'reservoir_id', 'input', 'output', 'height']\n",
    "\n",
    "hourly_data = hourly_data[new_order]\n",
    "\n",
    "hourly_data['reservoir_id'] = hourly_data['reservoir_id'].astype(int)\n",
    "\n",
    "hourly_data.to_csv(path_or_buf='data/reservoir/f.csv', index=False)"
   ]
  },
  {
   "cell_type": "code",
   "execution_count": 12,
   "metadata": {},
   "outputs": [
    {
     "data": {
      "text/plain": [
       "(188874, 5)"
      ]
     },
     "execution_count": 12,
     "metadata": {},
     "output_type": "execute_result"
    }
   ],
   "source": [
    "# etc = pd.DataFrame(pd.read_csv('data/reservoir_merged.csv'))\n",
    "a = pd.DataFrame(pd.read_csv('data/reservoir/a.csv'))\n",
    "b = pd.DataFrame(pd.read_csv('data/reservoir/b.csv'))\n",
    "d = pd.DataFrame(pd.read_csv('data/reservoir/d.csv'))\n",
    "e = pd.DataFrame(pd.read_csv('data/reservoir/e.csv'))\n",
    "g = pd.DataFrame(pd.read_csv('data/reservoir/g.csv'))\n",
    "i = pd.DataFrame(pd.read_csv('data/reservoir/i.csv'))\n",
    "j = pd.DataFrame(pd.read_csv('data/reservoir/j.csv'))\n",
    "k = pd.DataFrame(pd.read_csv('data/reservoir/k.csv'))\n",
    "l = pd.DataFrame(pd.read_csv('data/reservoir/l.csv'))\n",
    "c = pd.DataFrame(pd.read_csv('data/reservoir/c.csv'))\n",
    "f = pd.DataFrame(pd.read_csv('data/reservoir/f.csv'))\n",
    "h = pd.DataFrame(pd.read_csv('data/reservoir/h.csv'))\n",
    "# c = pd.DataFrame(pd.read_csv('data/temp/c.csv'))\n",
    "# f = pd.DataFrame(pd.read_csv('data/temp/f.csv'))\n",
    "# h = pd.DataFrame(pd.read_csv('data/temp/h.csv'))\n",
    "\n",
    "result = pd.concat([a, b, c, d, e, f, g, h, i, j, k, l], ignore_index=True)\n",
    "# result = pd.concat([etc, c, f, h], ignore_index=True)\n",
    "result.shape"
   ]
  },
  {
   "cell_type": "code",
   "execution_count": 13,
   "metadata": {},
   "outputs": [],
   "source": [
    "result['input'] = round(result['input'], 2)\n",
    "result['output'] = round(result['output'], 2)\n",
    "result['height'] = round(result['height'], 2)"
   ]
  },
  {
   "cell_type": "code",
   "execution_count": 14,
   "metadata": {},
   "outputs": [
    {
     "data": {
      "text/html": [
       "<div>\n",
       "<style scoped>\n",
       "    .dataframe tbody tr th:only-of-type {\n",
       "        vertical-align: middle;\n",
       "    }\n",
       "\n",
       "    .dataframe tbody tr th {\n",
       "        vertical-align: top;\n",
       "    }\n",
       "\n",
       "    .dataframe thead th {\n",
       "        text-align: right;\n",
       "    }\n",
       "</style>\n",
       "<table border=\"1\" class=\"dataframe\">\n",
       "  <thead>\n",
       "    <tr style=\"text-align: right;\">\n",
       "      <th></th>\n",
       "      <th>observation_time</th>\n",
       "      <th>reservoir_id</th>\n",
       "      <th>input</th>\n",
       "      <th>output</th>\n",
       "      <th>height</th>\n",
       "    </tr>\n",
       "  </thead>\n",
       "  <tbody>\n",
       "    <tr>\n",
       "      <th>0</th>\n",
       "      <td>2023-01-01 00:00:00</td>\n",
       "      <td>5</td>\n",
       "      <td>308.02</td>\n",
       "      <td>202.54</td>\n",
       "      <td>2.52</td>\n",
       "    </tr>\n",
       "    <tr>\n",
       "      <th>1</th>\n",
       "      <td>2023-01-01 01:00:00</td>\n",
       "      <td>5</td>\n",
       "      <td>284.42</td>\n",
       "      <td>129.78</td>\n",
       "      <td>2.77</td>\n",
       "    </tr>\n",
       "    <tr>\n",
       "      <th>2</th>\n",
       "      <td>2023-01-01 02:00:00</td>\n",
       "      <td>5</td>\n",
       "      <td>263.23</td>\n",
       "      <td>188.98</td>\n",
       "      <td>2.99</td>\n",
       "    </tr>\n",
       "    <tr>\n",
       "      <th>3</th>\n",
       "      <td>2023-01-01 03:00:00</td>\n",
       "      <td>5</td>\n",
       "      <td>262.98</td>\n",
       "      <td>150.53</td>\n",
       "      <td>3.15</td>\n",
       "    </tr>\n",
       "    <tr>\n",
       "      <th>4</th>\n",
       "      <td>2023-01-01 04:00:00</td>\n",
       "      <td>5</td>\n",
       "      <td>211.58</td>\n",
       "      <td>147.40</td>\n",
       "      <td>3.33</td>\n",
       "    </tr>\n",
       "  </tbody>\n",
       "</table>\n",
       "</div>"
      ],
      "text/plain": [
       "      observation_time  reservoir_id   input  output  height\n",
       "0  2023-01-01 00:00:00             5  308.02  202.54    2.52\n",
       "1  2023-01-01 01:00:00             5  284.42  129.78    2.77\n",
       "2  2023-01-01 02:00:00             5  263.23  188.98    2.99\n",
       "3  2023-01-01 03:00:00             5  262.98  150.53    3.15\n",
       "4  2023-01-01 04:00:00             5  211.58  147.40    3.33"
      ]
     },
     "execution_count": 14,
     "metadata": {},
     "output_type": "execute_result"
    }
   ],
   "source": [
    "result.head()"
   ]
  },
  {
   "cell_type": "code",
   "execution_count": 15,
   "metadata": {},
   "outputs": [],
   "source": [
    "result.to_csv(path_or_buf='data/reservoir_merged_hourly.csv', index=False)"
   ]
  },
  {
   "cell_type": "code",
   "execution_count": 10,
   "metadata": {},
   "outputs": [],
   "source": [
    "result['observation_time'] = pd.to_datetime(result['observation_time'])\n",
    "result = result.set_index('observation_time')  # 'observation_time'을 인덱스로 설정\n",
    "df_oct_21 = result.loc['2023-10-21']"
   ]
  },
  {
   "cell_type": "code",
   "execution_count": 11,
   "metadata": {},
   "outputs": [
    {
     "data": {
      "text/html": [
       "<div>\n",
       "<style scoped>\n",
       "    .dataframe tbody tr th:only-of-type {\n",
       "        vertical-align: middle;\n",
       "    }\n",
       "\n",
       "    .dataframe tbody tr th {\n",
       "        vertical-align: top;\n",
       "    }\n",
       "\n",
       "    .dataframe thead th {\n",
       "        text-align: right;\n",
       "    }\n",
       "</style>\n",
       "<table border=\"1\" class=\"dataframe\">\n",
       "  <thead>\n",
       "    <tr style=\"text-align: right;\">\n",
       "      <th></th>\n",
       "      <th>reservoir_id</th>\n",
       "      <th>input</th>\n",
       "      <th>output</th>\n",
       "      <th>height</th>\n",
       "    </tr>\n",
       "    <tr>\n",
       "      <th>observation_time</th>\n",
       "      <th></th>\n",
       "      <th></th>\n",
       "      <th></th>\n",
       "      <th></th>\n",
       "    </tr>\n",
       "  </thead>\n",
       "  <tbody>\n",
       "    <tr>\n",
       "      <th>2023-10-21 00:01:00</th>\n",
       "      <td>5</td>\n",
       "      <td>280.00</td>\n",
       "      <td>264.00</td>\n",
       "      <td>2.62</td>\n",
       "    </tr>\n",
       "    <tr>\n",
       "      <th>2023-10-21 00:02:00</th>\n",
       "      <td>5</td>\n",
       "      <td>286.00</td>\n",
       "      <td>253.00</td>\n",
       "      <td>2.59</td>\n",
       "    </tr>\n",
       "    <tr>\n",
       "      <th>2023-10-21 00:03:00</th>\n",
       "      <td>5</td>\n",
       "      <td>288.00</td>\n",
       "      <td>247.00</td>\n",
       "      <td>2.59</td>\n",
       "    </tr>\n",
       "    <tr>\n",
       "      <th>2023-10-21 00:04:00</th>\n",
       "      <td>5</td>\n",
       "      <td>280.00</td>\n",
       "      <td>265.00</td>\n",
       "      <td>2.59</td>\n",
       "    </tr>\n",
       "    <tr>\n",
       "      <th>2023-10-21 00:05:00</th>\n",
       "      <td>5</td>\n",
       "      <td>279.00</td>\n",
       "      <td>239.00</td>\n",
       "      <td>2.60</td>\n",
       "    </tr>\n",
       "    <tr>\n",
       "      <th>...</th>\n",
       "      <td>...</td>\n",
       "      <td>...</td>\n",
       "      <td>...</td>\n",
       "      <td>...</td>\n",
       "    </tr>\n",
       "    <tr>\n",
       "      <th>2023-10-21 23:55:00</th>\n",
       "      <td>10</td>\n",
       "      <td>0.41</td>\n",
       "      <td>0.42</td>\n",
       "      <td>2.27</td>\n",
       "    </tr>\n",
       "    <tr>\n",
       "      <th>2023-10-21 23:56:00</th>\n",
       "      <td>10</td>\n",
       "      <td>0.79</td>\n",
       "      <td>0.81</td>\n",
       "      <td>2.27</td>\n",
       "    </tr>\n",
       "    <tr>\n",
       "      <th>2023-10-21 23:57:00</th>\n",
       "      <td>10</td>\n",
       "      <td>0.65</td>\n",
       "      <td>0.65</td>\n",
       "      <td>2.27</td>\n",
       "    </tr>\n",
       "    <tr>\n",
       "      <th>2023-10-21 23:58:00</th>\n",
       "      <td>10</td>\n",
       "      <td>0.67</td>\n",
       "      <td>0.68</td>\n",
       "      <td>2.27</td>\n",
       "    </tr>\n",
       "    <tr>\n",
       "      <th>2023-10-21 23:59:00</th>\n",
       "      <td>10</td>\n",
       "      <td>0.10</td>\n",
       "      <td>0.12</td>\n",
       "      <td>2.27</td>\n",
       "    </tr>\n",
       "  </tbody>\n",
       "</table>\n",
       "<p>17268 rows × 4 columns</p>\n",
       "</div>"
      ],
      "text/plain": [
       "                     reservoir_id   input  output  height\n",
       "observation_time                                         \n",
       "2023-10-21 00:01:00             5  280.00  264.00    2.62\n",
       "2023-10-21 00:02:00             5  286.00  253.00    2.59\n",
       "2023-10-21 00:03:00             5  288.00  247.00    2.59\n",
       "2023-10-21 00:04:00             5  280.00  265.00    2.59\n",
       "2023-10-21 00:05:00             5  279.00  239.00    2.60\n",
       "...                           ...     ...     ...     ...\n",
       "2023-10-21 23:55:00            10    0.41    0.42    2.27\n",
       "2023-10-21 23:56:00            10    0.79    0.81    2.27\n",
       "2023-10-21 23:57:00            10    0.65    0.65    2.27\n",
       "2023-10-21 23:58:00            10    0.67    0.68    2.27\n",
       "2023-10-21 23:59:00            10    0.10    0.12    2.27\n",
       "\n",
       "[17268 rows x 4 columns]"
      ]
     },
     "execution_count": 11,
     "metadata": {},
     "output_type": "execute_result"
    }
   ],
   "source": [
    "df_oct_21"
   ]
  },
  {
   "cell_type": "code",
   "execution_count": 12,
   "metadata": {},
   "outputs": [],
   "source": [
    "df_oct_21.reset_index(inplace=True)"
   ]
  },
  {
   "cell_type": "code",
   "execution_count": 13,
   "metadata": {},
   "outputs": [],
   "source": [
    "df_oct_21.to_csv(path_or_buf='data/reservoir_merged_10_21.csv', index=False)"
   ]
  }
 ],
 "metadata": {
  "kernelspec": {
   "display_name": "torch_book",
   "language": "python",
   "name": "python3"
  },
  "language_info": {
   "codemirror_mode": {
    "name": "ipython",
    "version": 3
   },
   "file_extension": ".py",
   "mimetype": "text/x-python",
   "name": "python",
   "nbconvert_exporter": "python",
   "pygments_lexer": "ipython3",
   "version": "3.12.7"
  }
 },
 "nbformat": 4,
 "nbformat_minor": 2
}
