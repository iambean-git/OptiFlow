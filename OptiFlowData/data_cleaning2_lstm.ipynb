{
 "cells": [
  {
   "cell_type": "code",
   "execution_count": 1,
   "metadata": {},
   "outputs": [],
   "source": [
    "from preamble import *"
   ]
  },
  {
   "cell_type": "code",
   "execution_count": 2,
   "metadata": {},
   "outputs": [],
   "source": [
    "data9 = pd.DataFrame(pd.read_csv('data/raw data/9.csv', header=None))\n",
    "data10 = pd.DataFrame(pd.read_csv('data/raw data/10.csv', header=None))\n",
    "data11 = pd.DataFrame(pd.read_csv('data/raw data/11.csv', header=None))\n",
    "data12 = pd.DataFrame(pd.read_csv('data/raw data/12.csv', header=None))\n",
    "data13 = pd.DataFrame(pd.read_csv('data/raw data/13.csv', header=None))"
   ]
  },
  {
   "cell_type": "code",
   "execution_count": 3,
   "metadata": {},
   "outputs": [
    {
     "name": "stdout",
     "output_type": "stream",
     "text": [
      "1\n",
      "2023-01-01 00:01:00    101.18\n",
      "2023-01-01 00:02:00     98.53\n",
      "2023-01-01 00:03:00    102.03\n",
      "2023-01-01 00:04:00    100.53\n",
      "2023-01-01 00:05:00    104.79\n",
      "                        ...  \n",
      "2024-10-17 17:17:00    177.74\n",
      "2024-10-17 17:18:00    171.91\n",
      "2024-10-17 17:19:00    175.83\n",
      "2024-10-17 17:20:00       NaN\n",
      "2024-10-17 17:21:00       NaN\n",
      "Name: 2, Length: 943436, dtype: float64\n"
     ]
    }
   ],
   "source": [
    "input_flow = data9.set_index(1)[2]\n",
    "output_flow = data10.set_index(1)[2] + data11.set_index(1)[2]\n",
    "height_new = data12.set_index(1)[2]\n",
    "height_old = data13.set_index(1)[2]\n",
    "input_flow.head()\n",
    "print(output_flow)"
   ]
  },
  {
   "cell_type": "code",
   "execution_count": 4,
   "metadata": {},
   "outputs": [
    {
     "data": {
      "text/html": [
       "<div>\n",
       "<style scoped>\n",
       "    .dataframe tbody tr th:only-of-type {\n",
       "        vertical-align: middle;\n",
       "    }\n",
       "\n",
       "    .dataframe tbody tr th {\n",
       "        vertical-align: top;\n",
       "    }\n",
       "\n",
       "    .dataframe thead th {\n",
       "        text-align: right;\n",
       "    }\n",
       "</style>\n",
       "<table border=\"1\" class=\"dataframe\">\n",
       "  <thead>\n",
       "    <tr style=\"text-align: right;\">\n",
       "      <th></th>\n",
       "      <th>input_flow</th>\n",
       "      <th>height_new</th>\n",
       "      <th>height_old</th>\n",
       "      <th>output_flow</th>\n",
       "    </tr>\n",
       "    <tr>\n",
       "      <th>datetime</th>\n",
       "      <th></th>\n",
       "      <th></th>\n",
       "      <th></th>\n",
       "      <th></th>\n",
       "    </tr>\n",
       "  </thead>\n",
       "  <tbody>\n",
       "    <tr>\n",
       "      <th>2023-01-01 00:01:00</th>\n",
       "      <td>75.23</td>\n",
       "      <td>4.97</td>\n",
       "      <td>2.05</td>\n",
       "      <td>101.18</td>\n",
       "    </tr>\n",
       "    <tr>\n",
       "      <th>2023-01-01 00:02:00</th>\n",
       "      <td>74.65</td>\n",
       "      <td>4.97</td>\n",
       "      <td>2.05</td>\n",
       "      <td>98.53</td>\n",
       "    </tr>\n",
       "    <tr>\n",
       "      <th>2023-01-01 00:03:00</th>\n",
       "      <td>75.28</td>\n",
       "      <td>4.97</td>\n",
       "      <td>2.05</td>\n",
       "      <td>102.03</td>\n",
       "    </tr>\n",
       "    <tr>\n",
       "      <th>2023-01-01 00:04:00</th>\n",
       "      <td>74.67</td>\n",
       "      <td>4.97</td>\n",
       "      <td>2.05</td>\n",
       "      <td>100.53</td>\n",
       "    </tr>\n",
       "    <tr>\n",
       "      <th>2023-01-01 00:05:00</th>\n",
       "      <td>75.06</td>\n",
       "      <td>4.97</td>\n",
       "      <td>2.05</td>\n",
       "      <td>104.79</td>\n",
       "    </tr>\n",
       "  </tbody>\n",
       "</table>\n",
       "</div>"
      ],
      "text/plain": [
       "                     input_flow  height_new  height_old  output_flow\n",
       "datetime                                                            \n",
       "2023-01-01 00:01:00       75.23        4.97        2.05       101.18\n",
       "2023-01-01 00:02:00       74.65        4.97        2.05        98.53\n",
       "2023-01-01 00:03:00       75.28        4.97        2.05       102.03\n",
       "2023-01-01 00:04:00       74.67        4.97        2.05       100.53\n",
       "2023-01-01 00:05:00       75.06        4.97        2.05       104.79"
      ]
     },
     "execution_count": 4,
     "metadata": {},
     "output_type": "execute_result"
    }
   ],
   "source": [
    "j_data = pd.DataFrame({'input_flow':input_flow, 'height_new':height_new, 'height_old':height_old, 'output_flow':output_flow})\n",
    "j_data.index.name = 'datetime'\n",
    "j_data.index = pd.to_datetime(j_data.index)\n",
    "j_data.head()"
   ]
  },
  {
   "cell_type": "code",
   "execution_count": 5,
   "metadata": {},
   "outputs": [
    {
     "data": {
      "text/plain": [
       "0    6063.02\n",
       "1    7195.35\n",
       "2    7472.46\n",
       "3    4809.88\n",
       "4    6292.50\n",
       "Name: output_flow, dtype: float64"
      ]
     },
     "execution_count": 5,
     "metadata": {},
     "output_type": "execute_result"
    }
   ],
   "source": [
    "hourly_data = j_data.resample('h').sum()\n",
    "hourly_data = hourly_data.reset_index()\n",
    "hourly_input = hourly_data['input_flow']\n",
    "hourly_output = hourly_data['output_flow']\n",
    "hourly_output.head()"
   ]
  },
  {
   "cell_type": "code",
   "execution_count": 6,
   "metadata": {},
   "outputs": [
    {
     "data": {
      "text/plain": [
       "(                 일시  기온(°C)  강수량(mm)  풍속(m/s)  습도(%)  현지기압(hPa)  적설(cm)\n",
       " 0  2023-01-01 00:00    -0.9      0.0      1.4   72.0     1023.6     0.0\n",
       " 1  2023-01-01 01:00    -1.3      0.0      1.5   74.0     1023.3     0.0\n",
       " 2  2023-01-01 02:00    -1.7      0.0      1.4   75.0     1023.1     0.0\n",
       " 3  2023-01-01 03:00    -2.0      0.0      1.2   77.0     1023.3     0.0\n",
       " 4  2023-01-01 04:00    -2.0      0.0      1.7   79.0     1022.8     0.0,\n",
       "                  일시  기온(°C)  강수량(mm)  풍속(m/s)  습도(%)  현지기압(hPa)  적설(cm)\n",
       " 0  2024-01-01 00:00     4.0      0.0      1.2     79     1018.8     0.0\n",
       " 1  2024-01-01 01:00     3.8      0.0      1.5     80     1019.1     0.0\n",
       " 2  2024-01-01 02:00     3.9      0.0      0.2     79     1019.4     0.0\n",
       " 3  2024-01-01 03:00     3.5      0.0      0.4     84     1019.9     0.0\n",
       " 4  2024-01-01 04:00     1.9      0.0      1.1     92     1020.1     0.0)"
      ]
     },
     "execution_count": 6,
     "metadata": {},
     "output_type": "execute_result"
    }
   ],
   "source": [
    "df = pd.DataFrame(pd.read_csv('./data/weather_2023.csv'))\n",
    "df2 = pd.DataFrame(pd.read_csv('./data/weather_2024.csv'))\n",
    "weather_2023 = df.iloc[:, 2:]\n",
    "weather_2024 = df2.iloc[:, 2:]\n",
    "# weather_2023 = weather_2023.set_index(weather_2023.columns[0]) \n",
    "# weather_2024 = weather_2024.set_index(weather_2024.columns[0])\n",
    "weather_2023.fillna(0, inplace=True)\n",
    "weather_2024.fillna(0, inplace=True)\n",
    "weather_2023.head(), weather_2024.head()"
   ]
  },
  {
   "cell_type": "code",
   "execution_count": 7,
   "metadata": {},
   "outputs": [
    {
     "data": {
      "text/html": [
       "<div>\n",
       "<style scoped>\n",
       "    .dataframe tbody tr th:only-of-type {\n",
       "        vertical-align: middle;\n",
       "    }\n",
       "\n",
       "    .dataframe tbody tr th {\n",
       "        vertical-align: top;\n",
       "    }\n",
       "\n",
       "    .dataframe thead th {\n",
       "        text-align: right;\n",
       "    }\n",
       "</style>\n",
       "<table border=\"1\" class=\"dataframe\">\n",
       "  <thead>\n",
       "    <tr style=\"text-align: right;\">\n",
       "      <th></th>\n",
       "      <th>기온(°C)</th>\n",
       "      <th>강수량(mm)</th>\n",
       "      <th>풍속(m/s)</th>\n",
       "      <th>습도(%)</th>\n",
       "      <th>현지기압(hPa)</th>\n",
       "      <th>적설(cm)</th>\n",
       "    </tr>\n",
       "    <tr>\n",
       "      <th>일시</th>\n",
       "      <th></th>\n",
       "      <th></th>\n",
       "      <th></th>\n",
       "      <th></th>\n",
       "      <th></th>\n",
       "      <th></th>\n",
       "    </tr>\n",
       "  </thead>\n",
       "  <tbody>\n",
       "    <tr>\n",
       "      <th>2023-01-01 00:00</th>\n",
       "      <td>-0.9</td>\n",
       "      <td>0.0</td>\n",
       "      <td>1.4</td>\n",
       "      <td>72.0</td>\n",
       "      <td>1023.6</td>\n",
       "      <td>0.0</td>\n",
       "    </tr>\n",
       "    <tr>\n",
       "      <th>2023-01-01 01:00</th>\n",
       "      <td>-1.3</td>\n",
       "      <td>0.0</td>\n",
       "      <td>1.5</td>\n",
       "      <td>74.0</td>\n",
       "      <td>1023.3</td>\n",
       "      <td>0.0</td>\n",
       "    </tr>\n",
       "    <tr>\n",
       "      <th>2023-01-01 02:00</th>\n",
       "      <td>-1.7</td>\n",
       "      <td>0.0</td>\n",
       "      <td>1.4</td>\n",
       "      <td>75.0</td>\n",
       "      <td>1023.1</td>\n",
       "      <td>0.0</td>\n",
       "    </tr>\n",
       "    <tr>\n",
       "      <th>2023-01-01 03:00</th>\n",
       "      <td>-2.0</td>\n",
       "      <td>0.0</td>\n",
       "      <td>1.2</td>\n",
       "      <td>77.0</td>\n",
       "      <td>1023.3</td>\n",
       "      <td>0.0</td>\n",
       "    </tr>\n",
       "    <tr>\n",
       "      <th>2023-01-01 04:00</th>\n",
       "      <td>-2.0</td>\n",
       "      <td>0.0</td>\n",
       "      <td>1.7</td>\n",
       "      <td>79.0</td>\n",
       "      <td>1022.8</td>\n",
       "      <td>0.0</td>\n",
       "    </tr>\n",
       "  </tbody>\n",
       "</table>\n",
       "</div>"
      ],
      "text/plain": [
       "                  기온(°C)  강수량(mm)  풍속(m/s)  습도(%)  현지기압(hPa)  적설(cm)\n",
       "일시                                                                  \n",
       "2023-01-01 00:00    -0.9      0.0      1.4   72.0     1023.6     0.0\n",
       "2023-01-01 01:00    -1.3      0.0      1.5   74.0     1023.3     0.0\n",
       "2023-01-01 02:00    -1.7      0.0      1.4   75.0     1023.1     0.0\n",
       "2023-01-01 03:00    -2.0      0.0      1.2   77.0     1023.3     0.0\n",
       "2023-01-01 04:00    -2.0      0.0      1.7   79.0     1022.8     0.0"
      ]
     },
     "execution_count": 7,
     "metadata": {},
     "output_type": "execute_result"
    }
   ],
   "source": [
    "weather = pd.concat([weather_2023, weather_2024], axis=0)\n",
    "weather = weather.set_index('일시').astype(float)\n",
    "weather.head()\n",
    "# weather.tail()"
   ]
  },
  {
   "cell_type": "code",
   "execution_count": 8,
   "metadata": {},
   "outputs": [
    {
     "data": {
      "text/html": [
       "<div>\n",
       "<style scoped>\n",
       "    .dataframe tbody tr th:only-of-type {\n",
       "        vertical-align: middle;\n",
       "    }\n",
       "\n",
       "    .dataframe tbody tr th {\n",
       "        vertical-align: top;\n",
       "    }\n",
       "\n",
       "    .dataframe thead th {\n",
       "        text-align: right;\n",
       "    }\n",
       "</style>\n",
       "<table border=\"1\" class=\"dataframe\">\n",
       "  <thead>\n",
       "    <tr style=\"text-align: right;\">\n",
       "      <th></th>\n",
       "      <th>datetime</th>\n",
       "      <th>temperature</th>\n",
       "      <th>precipitation</th>\n",
       "      <th>wind_speed</th>\n",
       "      <th>humidity</th>\n",
       "      <th>atmospheric_pressure</th>\n",
       "      <th>snow</th>\n",
       "    </tr>\n",
       "  </thead>\n",
       "  <tbody>\n",
       "    <tr>\n",
       "      <th>0</th>\n",
       "      <td>2023-01-01 00:00:00</td>\n",
       "      <td>-0.9</td>\n",
       "      <td>0.0</td>\n",
       "      <td>1.4</td>\n",
       "      <td>72.0</td>\n",
       "      <td>1023.6</td>\n",
       "      <td>0.0</td>\n",
       "    </tr>\n",
       "    <tr>\n",
       "      <th>1</th>\n",
       "      <td>2023-01-01 01:00:00</td>\n",
       "      <td>-1.3</td>\n",
       "      <td>0.0</td>\n",
       "      <td>1.5</td>\n",
       "      <td>74.0</td>\n",
       "      <td>1023.3</td>\n",
       "      <td>0.0</td>\n",
       "    </tr>\n",
       "    <tr>\n",
       "      <th>2</th>\n",
       "      <td>2023-01-01 02:00:00</td>\n",
       "      <td>-1.7</td>\n",
       "      <td>0.0</td>\n",
       "      <td>1.4</td>\n",
       "      <td>75.0</td>\n",
       "      <td>1023.1</td>\n",
       "      <td>0.0</td>\n",
       "    </tr>\n",
       "    <tr>\n",
       "      <th>3</th>\n",
       "      <td>2023-01-01 03:00:00</td>\n",
       "      <td>-2.0</td>\n",
       "      <td>0.0</td>\n",
       "      <td>1.2</td>\n",
       "      <td>77.0</td>\n",
       "      <td>1023.3</td>\n",
       "      <td>0.0</td>\n",
       "    </tr>\n",
       "    <tr>\n",
       "      <th>4</th>\n",
       "      <td>2023-01-01 04:00:00</td>\n",
       "      <td>-2.0</td>\n",
       "      <td>0.0</td>\n",
       "      <td>1.7</td>\n",
       "      <td>79.0</td>\n",
       "      <td>1022.8</td>\n",
       "      <td>0.0</td>\n",
       "    </tr>\n",
       "  </tbody>\n",
       "</table>\n",
       "</div>"
      ],
      "text/plain": [
       "             datetime  temperature  precipitation  wind_speed  humidity  \\\n",
       "0 2023-01-01 00:00:00         -0.9            0.0         1.4      72.0   \n",
       "1 2023-01-01 01:00:00         -1.3            0.0         1.5      74.0   \n",
       "2 2023-01-01 02:00:00         -1.7            0.0         1.4      75.0   \n",
       "3 2023-01-01 03:00:00         -2.0            0.0         1.2      77.0   \n",
       "4 2023-01-01 04:00:00         -2.0            0.0         1.7      79.0   \n",
       "\n",
       "   atmospheric_pressure  snow  \n",
       "0                1023.6   0.0  \n",
       "1                1023.3   0.0  \n",
       "2                1023.1   0.0  \n",
       "3                1023.3   0.0  \n",
       "4                1022.8   0.0  "
      ]
     },
     "execution_count": 8,
     "metadata": {},
     "output_type": "execute_result"
    }
   ],
   "source": [
    "# weather.index.name = 'Date'\n",
    "weather = weather.reset_index()\n",
    "weather.rename(columns={'일시':'datetime', '기온(°C)': 'temperature', '강수량(mm)': 'precipitation', '풍속(m/s)': 'wind_speed', '습도(%)': 'humidity', '현지기압(hPa)':'atmospheric_pressure', '적설(cm)':'snow'}, inplace=True)\n",
    "weather['datetime'] = pd.to_datetime(weather['datetime'])\n",
    "weather.head()"
   ]
  },
  {
   "cell_type": "code",
   "execution_count": 10,
   "metadata": {},
   "outputs": [
    {
     "data": {
      "text/html": [
       "<div>\n",
       "<style scoped>\n",
       "    .dataframe tbody tr th:only-of-type {\n",
       "        vertical-align: middle;\n",
       "    }\n",
       "\n",
       "    .dataframe tbody tr th {\n",
       "        vertical-align: top;\n",
       "    }\n",
       "\n",
       "    .dataframe thead th {\n",
       "        text-align: right;\n",
       "    }\n",
       "</style>\n",
       "<table border=\"1\" class=\"dataframe\">\n",
       "  <thead>\n",
       "    <tr style=\"text-align: right;\">\n",
       "      <th></th>\n",
       "      <th>datetime</th>\n",
       "      <th>temperature</th>\n",
       "      <th>precipitation</th>\n",
       "      <th>wind_speed</th>\n",
       "      <th>humidity</th>\n",
       "      <th>atmospheric_pressure</th>\n",
       "      <th>snow</th>\n",
       "      <th>outflow</th>\n",
       "      <th>input</th>\n",
       "    </tr>\n",
       "  </thead>\n",
       "  <tbody>\n",
       "    <tr>\n",
       "      <th>0</th>\n",
       "      <td>2023-01-01 00:00:00</td>\n",
       "      <td>-0.9</td>\n",
       "      <td>0.0</td>\n",
       "      <td>1.4</td>\n",
       "      <td>72.0</td>\n",
       "      <td>1023.6</td>\n",
       "      <td>0.0</td>\n",
       "      <td>4672.98</td>\n",
       "      <td>6063.02</td>\n",
       "    </tr>\n",
       "    <tr>\n",
       "      <th>1</th>\n",
       "      <td>2023-01-01 01:00:00</td>\n",
       "      <td>-1.3</td>\n",
       "      <td>0.0</td>\n",
       "      <td>1.5</td>\n",
       "      <td>74.0</td>\n",
       "      <td>1023.3</td>\n",
       "      <td>0.0</td>\n",
       "      <td>6425.49</td>\n",
       "      <td>7195.35</td>\n",
       "    </tr>\n",
       "    <tr>\n",
       "      <th>2</th>\n",
       "      <td>2023-01-01 02:00:00</td>\n",
       "      <td>-1.7</td>\n",
       "      <td>0.0</td>\n",
       "      <td>1.4</td>\n",
       "      <td>75.0</td>\n",
       "      <td>1023.1</td>\n",
       "      <td>0.0</td>\n",
       "      <td>8620.11</td>\n",
       "      <td>7472.46</td>\n",
       "    </tr>\n",
       "    <tr>\n",
       "      <th>3</th>\n",
       "      <td>2023-01-01 03:00:00</td>\n",
       "      <td>-2.0</td>\n",
       "      <td>0.0</td>\n",
       "      <td>1.2</td>\n",
       "      <td>77.0</td>\n",
       "      <td>1023.3</td>\n",
       "      <td>0.0</td>\n",
       "      <td>8697.04</td>\n",
       "      <td>4809.88</td>\n",
       "    </tr>\n",
       "    <tr>\n",
       "      <th>4</th>\n",
       "      <td>2023-01-01 04:00:00</td>\n",
       "      <td>-2.0</td>\n",
       "      <td>0.0</td>\n",
       "      <td>1.7</td>\n",
       "      <td>79.0</td>\n",
       "      <td>1022.8</td>\n",
       "      <td>0.0</td>\n",
       "      <td>9543.70</td>\n",
       "      <td>6292.50</td>\n",
       "    </tr>\n",
       "  </tbody>\n",
       "</table>\n",
       "</div>"
      ],
      "text/plain": [
       "             datetime  temperature  precipitation  wind_speed  humidity  \\\n",
       "0 2023-01-01 00:00:00         -0.9            0.0         1.4      72.0   \n",
       "1 2023-01-01 01:00:00         -1.3            0.0         1.5      74.0   \n",
       "2 2023-01-01 02:00:00         -1.7            0.0         1.4      75.0   \n",
       "3 2023-01-01 03:00:00         -2.0            0.0         1.2      77.0   \n",
       "4 2023-01-01 04:00:00         -2.0            0.0         1.7      79.0   \n",
       "\n",
       "   atmospheric_pressure  snow  outflow    input  \n",
       "0                1023.6   0.0  4672.98  6063.02  \n",
       "1                1023.3   0.0  6425.49  7195.35  \n",
       "2                1023.1   0.0  8620.11  7472.46  \n",
       "3                1023.3   0.0  8697.04  4809.88  \n",
       "4                1022.8   0.0  9543.70  6292.50  "
      ]
     },
     "execution_count": 10,
     "metadata": {},
     "output_type": "execute_result"
    }
   ],
   "source": [
    "weather['outflow'] = hourly_input\n",
    "weather['input'] = hourly_output\n",
    "weather.head()"
   ]
  },
  {
   "cell_type": "code",
   "execution_count": 11,
   "metadata": {},
   "outputs": [
    {
     "data": {
      "text/plain": [
       "(17208, 9)"
      ]
     },
     "execution_count": 11,
     "metadata": {},
     "output_type": "execute_result"
    }
   ],
   "source": [
    "# weather = weather.astype(float)\n",
    "weather.shape"
   ]
  },
  {
   "cell_type": "code",
   "execution_count": 12,
   "metadata": {},
   "outputs": [],
   "source": [
    "weather = weather.dropna()"
   ]
  },
  {
   "cell_type": "code",
   "execution_count": 13,
   "metadata": {},
   "outputs": [],
   "source": [
    "weather.to_csv(path_or_buf='data/j_weather_data_lstm_v2.csv', index=False)\n",
    "# label.to_csv(path_or_buf='data/j_label.csv')"
   ]
  },
  {
   "cell_type": "code",
   "execution_count": null,
   "metadata": {},
   "outputs": [],
   "source": []
  }
 ],
 "metadata": {
  "kernelspec": {
   "display_name": "torch_book",
   "language": "python",
   "name": "python3"
  },
  "language_info": {
   "codemirror_mode": {
    "name": "ipython",
    "version": 3
   },
   "file_extension": ".py",
   "mimetype": "text/x-python",
   "name": "python",
   "nbconvert_exporter": "python",
   "pygments_lexer": "ipython3",
   "version": "3.12.7"
  }
 },
 "nbformat": 4,
 "nbformat_minor": 2
}
