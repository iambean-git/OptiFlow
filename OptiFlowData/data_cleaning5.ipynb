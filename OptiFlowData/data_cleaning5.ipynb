{
 "cells": [
  {
   "cell_type": "code",
   "execution_count": 1,
   "metadata": {},
   "outputs": [],
   "source": [
    "from preamble import *"
   ]
  },
  {
   "cell_type": "code",
   "execution_count": 2,
   "metadata": {},
   "outputs": [],
   "source": [
    "data9 = pd.DataFrame(pd.read_csv('data/raw data/9.csv', header=None))\n",
    "data10 = pd.DataFrame(pd.read_csv('data/raw data/10.csv', header=None))\n",
    "data11 = pd.DataFrame(pd.read_csv('data/raw data/11.csv', header=None))\n",
    "data12 = pd.DataFrame(pd.read_csv('data/raw data/12.csv', header=None))"
   ]
  },
  {
   "cell_type": "code",
   "execution_count": 3,
   "metadata": {},
   "outputs": [
    {
     "data": {
      "text/plain": [
       "((943433,), (943436,), (943502,))"
      ]
     },
     "execution_count": 3,
     "metadata": {},
     "output_type": "execute_result"
    }
   ],
   "source": [
    "input_flow = data9.set_index(1)[2]\n",
    "output_flow = data10.set_index(1)[2] + data11.set_index(1)[2]\n",
    "height = data12.set_index(1)[2]\n",
    "input_flow.shape, output_flow.shape, height.shape"
   ]
  },
  {
   "cell_type": "code",
   "execution_count": 4,
   "metadata": {},
   "outputs": [
    {
     "data": {
      "text/html": [
       "<div>\n",
       "<style scoped>\n",
       "    .dataframe tbody tr th:only-of-type {\n",
       "        vertical-align: middle;\n",
       "    }\n",
       "\n",
       "    .dataframe tbody tr th {\n",
       "        vertical-align: top;\n",
       "    }\n",
       "\n",
       "    .dataframe thead th {\n",
       "        text-align: right;\n",
       "    }\n",
       "</style>\n",
       "<table border=\"1\" class=\"dataframe\">\n",
       "  <thead>\n",
       "    <tr style=\"text-align: right;\">\n",
       "      <th></th>\n",
       "      <th>input_flow</th>\n",
       "      <th>height</th>\n",
       "      <th>output_flow</th>\n",
       "    </tr>\n",
       "    <tr>\n",
       "      <th>datetime</th>\n",
       "      <th></th>\n",
       "      <th></th>\n",
       "      <th></th>\n",
       "    </tr>\n",
       "  </thead>\n",
       "  <tbody>\n",
       "    <tr>\n",
       "      <th>2023-01-01 00:01:00</th>\n",
       "      <td>75.23</td>\n",
       "      <td>4.97</td>\n",
       "      <td>101.18</td>\n",
       "    </tr>\n",
       "    <tr>\n",
       "      <th>2023-01-01 00:02:00</th>\n",
       "      <td>74.65</td>\n",
       "      <td>4.97</td>\n",
       "      <td>98.53</td>\n",
       "    </tr>\n",
       "    <tr>\n",
       "      <th>2023-01-01 00:03:00</th>\n",
       "      <td>75.28</td>\n",
       "      <td>4.97</td>\n",
       "      <td>102.03</td>\n",
       "    </tr>\n",
       "    <tr>\n",
       "      <th>2023-01-01 00:04:00</th>\n",
       "      <td>74.67</td>\n",
       "      <td>4.97</td>\n",
       "      <td>100.53</td>\n",
       "    </tr>\n",
       "    <tr>\n",
       "      <th>2023-01-01 00:05:00</th>\n",
       "      <td>75.06</td>\n",
       "      <td>4.97</td>\n",
       "      <td>104.79</td>\n",
       "    </tr>\n",
       "  </tbody>\n",
       "</table>\n",
       "</div>"
      ],
      "text/plain": [
       "                     input_flow  height  output_flow\n",
       "datetime                                            \n",
       "2023-01-01 00:01:00       75.23    4.97       101.18\n",
       "2023-01-01 00:02:00       74.65    4.97        98.53\n",
       "2023-01-01 00:03:00       75.28    4.97       102.03\n",
       "2023-01-01 00:04:00       74.67    4.97       100.53\n",
       "2023-01-01 00:05:00       75.06    4.97       104.79"
      ]
     },
     "execution_count": 4,
     "metadata": {},
     "output_type": "execute_result"
    }
   ],
   "source": [
    "j_data = pd.DataFrame({'input_flow':input_flow, 'height':height, 'output_flow':output_flow})\n",
    "j_data.index.name = 'datetime'\n",
    "j_data = j_data.astype(float)\n",
    "j_data.index = pd.to_datetime(j_data.index)\n",
    "j_data.head()"
   ]
  },
  {
   "cell_type": "code",
   "execution_count": 5,
   "metadata": {},
   "outputs": [
    {
     "data": {
      "text/html": [
       "<div>\n",
       "<style scoped>\n",
       "    .dataframe tbody tr th:only-of-type {\n",
       "        vertical-align: middle;\n",
       "    }\n",
       "\n",
       "    .dataframe tbody tr th {\n",
       "        vertical-align: top;\n",
       "    }\n",
       "\n",
       "    .dataframe thead th {\n",
       "        text-align: right;\n",
       "    }\n",
       "</style>\n",
       "<table border=\"1\" class=\"dataframe\">\n",
       "  <thead>\n",
       "    <tr style=\"text-align: right;\">\n",
       "      <th></th>\n",
       "      <th>datetime</th>\n",
       "      <th>input_flow</th>\n",
       "      <th>height</th>\n",
       "      <th>output_flow</th>\n",
       "    </tr>\n",
       "  </thead>\n",
       "  <tbody>\n",
       "    <tr>\n",
       "      <th>0</th>\n",
       "      <td>2023-01-01 00:00:00</td>\n",
       "      <td>4672.98</td>\n",
       "      <td>293.21</td>\n",
       "      <td>6063.02</td>\n",
       "    </tr>\n",
       "    <tr>\n",
       "      <th>1</th>\n",
       "      <td>2023-01-01 01:00:00</td>\n",
       "      <td>6425.49</td>\n",
       "      <td>299.24</td>\n",
       "      <td>7195.35</td>\n",
       "    </tr>\n",
       "    <tr>\n",
       "      <th>2</th>\n",
       "      <td>2023-01-01 02:00:00</td>\n",
       "      <td>8620.11</td>\n",
       "      <td>300.63</td>\n",
       "      <td>7472.46</td>\n",
       "    </tr>\n",
       "    <tr>\n",
       "      <th>3</th>\n",
       "      <td>2023-01-01 03:00:00</td>\n",
       "      <td>8697.04</td>\n",
       "      <td>300.72</td>\n",
       "      <td>4809.88</td>\n",
       "    </tr>\n",
       "    <tr>\n",
       "      <th>4</th>\n",
       "      <td>2023-01-01 04:00:00</td>\n",
       "      <td>9543.70</td>\n",
       "      <td>301.02</td>\n",
       "      <td>6292.50</td>\n",
       "    </tr>\n",
       "  </tbody>\n",
       "</table>\n",
       "</div>"
      ],
      "text/plain": [
       "             datetime  input_flow  height  output_flow\n",
       "0 2023-01-01 00:00:00     4672.98  293.21      6063.02\n",
       "1 2023-01-01 01:00:00     6425.49  299.24      7195.35\n",
       "2 2023-01-01 02:00:00     8620.11  300.63      7472.46\n",
       "3 2023-01-01 03:00:00     8697.04  300.72      4809.88\n",
       "4 2023-01-01 04:00:00     9543.70  301.02      6292.50"
      ]
     },
     "execution_count": 5,
     "metadata": {},
     "output_type": "execute_result"
    }
   ],
   "source": [
    "hourly_data = j_data.resample('h').sum()\n",
    "hourly_j_data = hourly_data.reset_index()\n",
    "hourly_j_data.head()"
   ]
  },
  {
   "cell_type": "code",
   "execution_count": 6,
   "metadata": {},
   "outputs": [],
   "source": [
    "hourly_j_data['height'] = hourly_j_data['height'] / 60"
   ]
  },
  {
   "cell_type": "code",
   "execution_count": 7,
   "metadata": {},
   "outputs": [],
   "source": [
    "id = pd.Series(np.ones(hourly_j_data.shape[0]))"
   ]
  },
  {
   "cell_type": "code",
   "execution_count": 8,
   "metadata": {},
   "outputs": [
    {
     "data": {
      "text/html": [
       "<div>\n",
       "<style scoped>\n",
       "    .dataframe tbody tr th:only-of-type {\n",
       "        vertical-align: middle;\n",
       "    }\n",
       "\n",
       "    .dataframe tbody tr th {\n",
       "        vertical-align: top;\n",
       "    }\n",
       "\n",
       "    .dataframe thead th {\n",
       "        text-align: right;\n",
       "    }\n",
       "</style>\n",
       "<table border=\"1\" class=\"dataframe\">\n",
       "  <thead>\n",
       "    <tr style=\"text-align: right;\">\n",
       "      <th></th>\n",
       "      <th>datetime</th>\n",
       "      <th>id</th>\n",
       "      <th>input_flow</th>\n",
       "      <th>height</th>\n",
       "      <th>output_flow</th>\n",
       "    </tr>\n",
       "  </thead>\n",
       "  <tbody>\n",
       "    <tr>\n",
       "      <th>0</th>\n",
       "      <td>2023-01-01 00:00:00</td>\n",
       "      <td>1</td>\n",
       "      <td>4672.98</td>\n",
       "      <td>4.89</td>\n",
       "      <td>6063.02</td>\n",
       "    </tr>\n",
       "    <tr>\n",
       "      <th>1</th>\n",
       "      <td>2023-01-01 01:00:00</td>\n",
       "      <td>1</td>\n",
       "      <td>6425.49</td>\n",
       "      <td>4.99</td>\n",
       "      <td>7195.35</td>\n",
       "    </tr>\n",
       "    <tr>\n",
       "      <th>2</th>\n",
       "      <td>2023-01-01 02:00:00</td>\n",
       "      <td>1</td>\n",
       "      <td>8620.11</td>\n",
       "      <td>5.01</td>\n",
       "      <td>7472.46</td>\n",
       "    </tr>\n",
       "    <tr>\n",
       "      <th>3</th>\n",
       "      <td>2023-01-01 03:00:00</td>\n",
       "      <td>1</td>\n",
       "      <td>8697.04</td>\n",
       "      <td>5.01</td>\n",
       "      <td>4809.88</td>\n",
       "    </tr>\n",
       "    <tr>\n",
       "      <th>4</th>\n",
       "      <td>2023-01-01 04:00:00</td>\n",
       "      <td>1</td>\n",
       "      <td>9543.70</td>\n",
       "      <td>5.02</td>\n",
       "      <td>6292.50</td>\n",
       "    </tr>\n",
       "  </tbody>\n",
       "</table>\n",
       "</div>"
      ],
      "text/plain": [
       "             datetime  id  input_flow  height  output_flow\n",
       "0 2023-01-01 00:00:00   1     4672.98    4.89      6063.02\n",
       "1 2023-01-01 01:00:00   1     6425.49    4.99      7195.35\n",
       "2 2023-01-01 02:00:00   1     8620.11    5.01      7472.46\n",
       "3 2023-01-01 03:00:00   1     8697.04    5.01      4809.88\n",
       "4 2023-01-01 04:00:00   1     9543.70    5.02      6292.50"
      ]
     },
     "execution_count": 8,
     "metadata": {},
     "output_type": "execute_result"
    }
   ],
   "source": [
    "hourly_j_data.insert(1, 'id', id)\n",
    "# j_data['id'] = id\n",
    "hourly_j_data['id'] = hourly_j_data['id'].fillna(1).astype(int)\n",
    "hourly_j_data.head()"
   ]
  },
  {
   "cell_type": "code",
   "execution_count": 9,
   "metadata": {},
   "outputs": [
    {
     "data": {
      "text/plain": [
       "(15739, 5)"
      ]
     },
     "execution_count": 9,
     "metadata": {},
     "output_type": "execute_result"
    }
   ],
   "source": [
    "hourly_j_data.shape"
   ]
  },
  {
   "cell_type": "code",
   "execution_count": 10,
   "metadata": {},
   "outputs": [],
   "source": [
    "hourly_j_data.dropna(inplace=True)"
   ]
  },
  {
   "cell_type": "code",
   "execution_count": 11,
   "metadata": {},
   "outputs": [],
   "source": [
    "hourly_j_data.to_csv(path_or_buf='data/j_reservoir_info.csv', index=False)\n",
    "# label.to_csv(path_or_buf='data/j_label.csv')"
   ]
  },
  {
   "cell_type": "code",
   "execution_count": null,
   "metadata": {},
   "outputs": [],
   "source": []
  }
 ],
 "metadata": {
  "kernelspec": {
   "display_name": "torch_book",
   "language": "python",
   "name": "python3"
  },
  "language_info": {
   "codemirror_mode": {
    "name": "ipython",
    "version": 3
   },
   "file_extension": ".py",
   "mimetype": "text/x-python",
   "name": "python",
   "nbconvert_exporter": "python",
   "pygments_lexer": "ipython3",
   "version": "3.12.7"
  }
 },
 "nbformat": 4,
 "nbformat_minor": 2
}
