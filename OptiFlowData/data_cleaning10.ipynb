{
 "cells": [
  {
   "cell_type": "code",
   "execution_count": 2,
   "metadata": {},
   "outputs": [],
   "source": [
    "from preamble import *"
   ]
  },
  {
   "cell_type": "code",
   "execution_count": 2,
   "metadata": {},
   "outputs": [
    {
     "data": {
      "text/html": [
       "<div>\n",
       "<style scoped>\n",
       "    .dataframe tbody tr th:only-of-type {\n",
       "        vertical-align: middle;\n",
       "    }\n",
       "\n",
       "    .dataframe tbody tr th {\n",
       "        vertical-align: top;\n",
       "    }\n",
       "\n",
       "    .dataframe thead th {\n",
       "        text-align: right;\n",
       "    }\n",
       "</style>\n",
       "<table border=\"1\" class=\"dataframe\">\n",
       "  <thead>\n",
       "    <tr style=\"text-align: right;\">\n",
       "      <th></th>\n",
       "      <th>reservoir_id</th>\n",
       "      <th>input</th>\n",
       "      <th>output</th>\n",
       "      <th>height</th>\n",
       "    </tr>\n",
       "    <tr>\n",
       "      <th>observation_time</th>\n",
       "      <th></th>\n",
       "      <th></th>\n",
       "      <th></th>\n",
       "      <th></th>\n",
       "    </tr>\n",
       "  </thead>\n",
       "  <tbody>\n",
       "    <tr>\n",
       "      <th>2023-01-01 00:00:00</th>\n",
       "      <td>1</td>\n",
       "      <td>77.88</td>\n",
       "      <td>101.05</td>\n",
       "      <td>4.89</td>\n",
       "    </tr>\n",
       "    <tr>\n",
       "      <th>2023-01-01 01:00:00</th>\n",
       "      <td>1</td>\n",
       "      <td>107.09</td>\n",
       "      <td>119.92</td>\n",
       "      <td>4.99</td>\n",
       "    </tr>\n",
       "    <tr>\n",
       "      <th>2023-01-01 02:00:00</th>\n",
       "      <td>1</td>\n",
       "      <td>143.67</td>\n",
       "      <td>124.54</td>\n",
       "      <td>5.01</td>\n",
       "    </tr>\n",
       "    <tr>\n",
       "      <th>2023-01-01 03:00:00</th>\n",
       "      <td>1</td>\n",
       "      <td>144.95</td>\n",
       "      <td>80.16</td>\n",
       "      <td>5.01</td>\n",
       "    </tr>\n",
       "    <tr>\n",
       "      <th>2023-01-01 04:00:00</th>\n",
       "      <td>1</td>\n",
       "      <td>159.06</td>\n",
       "      <td>104.88</td>\n",
       "      <td>5.02</td>\n",
       "    </tr>\n",
       "  </tbody>\n",
       "</table>\n",
       "</div>"
      ],
      "text/plain": [
       "                     reservoir_id   input  output  height\n",
       "observation_time                                         \n",
       "2023-01-01 00:00:00             1   77.88  101.05    4.89\n",
       "2023-01-01 01:00:00             1  107.09  119.92    4.99\n",
       "2023-01-01 02:00:00             1  143.67  124.54    5.01\n",
       "2023-01-01 03:00:00             1  144.95   80.16    5.01\n",
       "2023-01-01 04:00:00             1  159.06  104.88    5.02"
      ]
     },
     "execution_count": 2,
     "metadata": {},
     "output_type": "execute_result"
    }
   ],
   "source": [
    "raw_data9 = pd.DataFrame(pd.read_csv('data/raw data/9.csv', header=None))\n",
    "raw_data10 = pd.DataFrame(pd.read_csv('data/raw data/10.csv', header=None))\n",
    "raw_data11 = pd.DataFrame(pd.read_csv('data/raw data/11.csv', header=None))\n",
    "raw_data12 = pd.DataFrame(pd.read_csv('data/raw data/12.csv', header=None))\n",
    "\n",
    "input_flow = raw_data9.set_index(1)[2]\n",
    "output_flow = raw_data10.set_index(1)[2] + raw_data11.set_index(1)[2]\n",
    "height = raw_data12.set_index(1)[2]\n",
    "\n",
    "data = pd.DataFrame({'input_flow':input_flow, 'output_flow':output_flow, 'height':height})\n",
    "data.index.name = 'observation_time'\n",
    "data.index = pd.to_datetime(data.index)\n",
    "\n",
    "hourly_data = data.resample('h').sum()\n",
    "hourly_input = round(hourly_data['input_flow'] / 60, 2)\n",
    "hourly_output = round(hourly_data['output_flow'] / 60, 2)\n",
    "hourly_height = round(hourly_data['height'] / 60, 2)\n",
    "\n",
    "data_hourly = pd.DataFrame({'reservoir_id':1, 'input':hourly_input, 'output':hourly_output, 'height':hourly_height})\n",
    "data_hourly.head()"
   ]
  },
  {
   "cell_type": "code",
   "execution_count": 3,
   "metadata": {},
   "outputs": [
    {
     "name": "stderr",
     "output_type": "stream",
     "text": [
      "C:\\Users\\user\\AppData\\Local\\Temp\\ipykernel_20404\\2181673988.py:1: DtypeWarning: Columns (1,2,3,4) have mixed types. Specify dtype option on import or set low_memory=False.\n",
      "  data = pd.DataFrame(pd.read_csv('data/reservoir_merged_hourly.csv', header=None))\n"
     ]
    }
   ],
   "source": [
    "data = pd.DataFrame(pd.read_csv('data/reservoir_merged_hourly.csv', header=None))\n",
    "data.dropna(inplace=True)\n",
    "data.to_csv(path_or_buf='data/reservoir_merged_hourly.csv', index=False)"
   ]
  },
  {
   "cell_type": "code",
   "execution_count": null,
   "metadata": {},
   "outputs": [],
   "source": []
  }
 ],
 "metadata": {
  "kernelspec": {
   "display_name": "torch_book",
   "language": "python",
   "name": "python3"
  },
  "language_info": {
   "codemirror_mode": {
    "name": "ipython",
    "version": 3
   },
   "file_extension": ".py",
   "mimetype": "text/x-python",
   "name": "python",
   "nbconvert_exporter": "python",
   "pygments_lexer": "ipython3",
   "version": "3.12.7"
  }
 },
 "nbformat": 4,
 "nbformat_minor": 2
}
