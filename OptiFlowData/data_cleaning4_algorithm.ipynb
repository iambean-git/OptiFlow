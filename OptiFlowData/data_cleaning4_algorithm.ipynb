{
 "cells": [
  {
   "cell_type": "code",
   "execution_count": 1,
   "metadata": {},
   "outputs": [],
   "source": [
    "from preamble import *"
   ]
  },
  {
   "cell_type": "code",
   "execution_count": 2,
   "metadata": {},
   "outputs": [],
   "source": [
    "data8 = pd.DataFrame(pd.read_csv('data/raw data/8.csv', header=None))\n",
    "data9 = pd.DataFrame(pd.read_csv('data/raw data/9.csv', header=None))\n",
    "data10 = pd.DataFrame(pd.read_csv('data/raw data/10.csv', header=None))\n",
    "data11 = pd.DataFrame(pd.read_csv('data/raw data/11.csv', header=None))"
   ]
  },
  {
   "cell_type": "code",
   "execution_count": 3,
   "metadata": {},
   "outputs": [],
   "source": [
    "pressure = data8.set_index(1)[2]\n",
    "flux = data9.set_index(1)[2]\n",
    "outflow = data10.set_index(1)[2] + data11.set_index(1)[2]"
   ]
  },
  {
   "cell_type": "code",
   "execution_count": 5,
   "metadata": {},
   "outputs": [
    {
     "data": {
      "text/html": [
       "<div>\n",
       "<style scoped>\n",
       "    .dataframe tbody tr th:only-of-type {\n",
       "        vertical-align: middle;\n",
       "    }\n",
       "\n",
       "    .dataframe tbody tr th {\n",
       "        vertical-align: top;\n",
       "    }\n",
       "\n",
       "    .dataframe thead th {\n",
       "        text-align: right;\n",
       "    }\n",
       "</style>\n",
       "<table border=\"1\" class=\"dataframe\">\n",
       "  <thead>\n",
       "    <tr style=\"text-align: right;\">\n",
       "      <th></th>\n",
       "      <th>pressure</th>\n",
       "      <th>flux</th>\n",
       "      <th>outflow</th>\n",
       "    </tr>\n",
       "    <tr>\n",
       "      <th>datetime</th>\n",
       "      <th></th>\n",
       "      <th></th>\n",
       "      <th></th>\n",
       "    </tr>\n",
       "  </thead>\n",
       "  <tbody>\n",
       "    <tr>\n",
       "      <th>2023-01-01 00:01:00</th>\n",
       "      <td>9.69</td>\n",
       "      <td>75.23</td>\n",
       "      <td>101.18</td>\n",
       "    </tr>\n",
       "    <tr>\n",
       "      <th>2023-01-01 00:02:00</th>\n",
       "      <td>9.69</td>\n",
       "      <td>74.65</td>\n",
       "      <td>98.53</td>\n",
       "    </tr>\n",
       "    <tr>\n",
       "      <th>2023-01-01 00:03:00</th>\n",
       "      <td>9.69</td>\n",
       "      <td>75.28</td>\n",
       "      <td>102.03</td>\n",
       "    </tr>\n",
       "    <tr>\n",
       "      <th>2023-01-01 00:04:00</th>\n",
       "      <td>9.69</td>\n",
       "      <td>74.67</td>\n",
       "      <td>100.53</td>\n",
       "    </tr>\n",
       "    <tr>\n",
       "      <th>2023-01-01 00:05:00</th>\n",
       "      <td>9.69</td>\n",
       "      <td>75.06</td>\n",
       "      <td>104.79</td>\n",
       "    </tr>\n",
       "  </tbody>\n",
       "</table>\n",
       "</div>"
      ],
      "text/plain": [
       "                     pressure   flux  outflow\n",
       "datetime                                     \n",
       "2023-01-01 00:01:00      9.69  75.23   101.18\n",
       "2023-01-01 00:02:00      9.69  74.65    98.53\n",
       "2023-01-01 00:03:00      9.69  75.28   102.03\n",
       "2023-01-01 00:04:00      9.69  74.67   100.53\n",
       "2023-01-01 00:05:00      9.69  75.06   104.79"
      ]
     },
     "execution_count": 5,
     "metadata": {},
     "output_type": "execute_result"
    }
   ],
   "source": [
    "d_data = pd.DataFrame({'pressure':pressure, 'flux':flux, 'outflow':outflow})\n",
    "d_data.index.name = 'datetime'\n",
    "d_data.head()"
   ]
  },
  {
   "cell_type": "code",
   "execution_count": 6,
   "metadata": {},
   "outputs": [],
   "source": [
    "d_data = d_data.astype(float)"
   ]
  },
  {
   "cell_type": "code",
   "execution_count": 7,
   "metadata": {},
   "outputs": [
    {
     "data": {
      "text/html": [
       "<div>\n",
       "<style scoped>\n",
       "    .dataframe tbody tr th:only-of-type {\n",
       "        vertical-align: middle;\n",
       "    }\n",
       "\n",
       "    .dataframe tbody tr th {\n",
       "        vertical-align: top;\n",
       "    }\n",
       "\n",
       "    .dataframe thead th {\n",
       "        text-align: right;\n",
       "    }\n",
       "</style>\n",
       "<table border=\"1\" class=\"dataframe\">\n",
       "  <thead>\n",
       "    <tr style=\"text-align: right;\">\n",
       "      <th></th>\n",
       "      <th>datetime</th>\n",
       "      <th>pressure</th>\n",
       "      <th>flux</th>\n",
       "      <th>outflow</th>\n",
       "    </tr>\n",
       "  </thead>\n",
       "  <tbody>\n",
       "    <tr>\n",
       "      <th>0</th>\n",
       "      <td>2023-01-01 00:01:00</td>\n",
       "      <td>9.69</td>\n",
       "      <td>75.23</td>\n",
       "      <td>101.18</td>\n",
       "    </tr>\n",
       "    <tr>\n",
       "      <th>1</th>\n",
       "      <td>2023-01-01 00:02:00</td>\n",
       "      <td>9.69</td>\n",
       "      <td>74.65</td>\n",
       "      <td>98.53</td>\n",
       "    </tr>\n",
       "    <tr>\n",
       "      <th>2</th>\n",
       "      <td>2023-01-01 00:03:00</td>\n",
       "      <td>9.69</td>\n",
       "      <td>75.28</td>\n",
       "      <td>102.03</td>\n",
       "    </tr>\n",
       "    <tr>\n",
       "      <th>3</th>\n",
       "      <td>2023-01-01 00:04:00</td>\n",
       "      <td>9.69</td>\n",
       "      <td>74.67</td>\n",
       "      <td>100.53</td>\n",
       "    </tr>\n",
       "    <tr>\n",
       "      <th>4</th>\n",
       "      <td>2023-01-01 00:05:00</td>\n",
       "      <td>9.69</td>\n",
       "      <td>75.06</td>\n",
       "      <td>104.79</td>\n",
       "    </tr>\n",
       "  </tbody>\n",
       "</table>\n",
       "</div>"
      ],
      "text/plain": [
       "             datetime  pressure   flux  outflow\n",
       "0 2023-01-01 00:01:00      9.69  75.23   101.18\n",
       "1 2023-01-01 00:02:00      9.69  74.65    98.53\n",
       "2 2023-01-01 00:03:00      9.69  75.28   102.03\n",
       "3 2023-01-01 00:04:00      9.69  74.67   100.53\n",
       "4 2023-01-01 00:05:00      9.69  75.06   104.79"
      ]
     },
     "execution_count": 7,
     "metadata": {},
     "output_type": "execute_result"
    }
   ],
   "source": [
    "d_data.reset_index(inplace=True)\n",
    "d_data['datetime'] = pd.to_datetime(d_data['datetime'])\n",
    "d_data.head()"
   ]
  },
  {
   "cell_type": "code",
   "execution_count": 8,
   "metadata": {},
   "outputs": [
    {
     "data": {
      "text/plain": [
       "(943566, 4)"
      ]
     },
     "execution_count": 8,
     "metadata": {},
     "output_type": "execute_result"
    }
   ],
   "source": [
    "d_data.shape"
   ]
  },
  {
   "cell_type": "code",
   "execution_count": 9,
   "metadata": {},
   "outputs": [
    {
     "data": {
      "text/plain": [
       "(943431, 4)"
      ]
     },
     "execution_count": 9,
     "metadata": {},
     "output_type": "execute_result"
    }
   ],
   "source": [
    "d_data.dropna(inplace=True)\n",
    "d_data.shape"
   ]
  },
  {
   "cell_type": "code",
   "execution_count": 11,
   "metadata": {},
   "outputs": [],
   "source": [
    "d_data.to_csv(path_or_buf='data/d_pressure_flux_outflow.csv', index=False)"
   ]
  },
  {
   "cell_type": "code",
   "execution_count": null,
   "metadata": {},
   "outputs": [],
   "source": []
  }
 ],
 "metadata": {
  "kernelspec": {
   "display_name": "torch_book",
   "language": "python",
   "name": "python3"
  },
  "language_info": {
   "codemirror_mode": {
    "name": "ipython",
    "version": 3
   },
   "file_extension": ".py",
   "mimetype": "text/x-python",
   "name": "python",
   "nbconvert_exporter": "python",
   "pygments_lexer": "ipython3",
   "version": "3.12.7"
  }
 },
 "nbformat": 4,
 "nbformat_minor": 2
}
